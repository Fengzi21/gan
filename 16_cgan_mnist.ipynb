{
 "cells": [
  {
   "cell_type": "markdown",
   "metadata": {
    "colab_type": "text",
    "id": "DpII-qgno6EX"
   },
   "source": [
    "# Conditional GAN - MNIST\n",
    "\n",
    "Make Your First GAN With PyTorch, 2020"
   ]
  },
  {
   "cell_type": "code",
   "execution_count": 1,
   "metadata": {
    "colab": {
     "base_uri": "https://localhost:8080/",
     "height": 34
    },
    "colab_type": "code",
    "id": "R4cVBs2wlDiv",
    "outputId": "cc9d261e-e056-4a36-be03-30399b0fad9e"
   },
   "outputs": [],
   "source": [
    "from rich import print"
   ]
  },
  {
   "cell_type": "markdown",
   "metadata": {
    "colab": {},
    "colab_type": "code",
    "id": "7bkrfSHHAPUB"
   },
   "source": [
    "## import libraries"
   ]
  },
  {
   "cell_type": "code",
   "execution_count": 2,
   "metadata": {
    "colab": {},
    "colab_type": "code",
    "id": "7bkrfSHHAPUB"
   },
   "outputs": [],
   "source": [
    "import random\n",
    "\n",
    "import torch\n",
    "import torch.nn as nn\n",
    "\n",
    "import pandas as pd\n",
    "import numpy as np\n",
    "import matplotlib.pyplot as plt"
   ]
  },
  {
   "cell_type": "markdown",
   "metadata": {
    "colab_type": "text",
    "id": "o91c-ALVmw0n"
   },
   "source": [
    "## Dataset Class"
   ]
  },
  {
   "cell_type": "code",
   "execution_count": 3,
   "metadata": {
    "colab": {},
    "colab_type": "code",
    "id": "hS9SJ5JI5rIW"
   },
   "outputs": [],
   "source": [
    "import mnist_data"
   ]
  },
  {
   "cell_type": "code",
   "execution_count": 4,
   "metadata": {
    "colab": {},
    "colab_type": "code",
    "id": "4xznLd7Cke2r"
   },
   "outputs": [],
   "source": [
    "# load training data\n",
    "\n",
    "train_csv = mnist_data.datadir.joinpath('mnist_train.csv')\n",
    "mnist_dataset = mnist_data.MnistDataset(train_csv)"
   ]
  },
  {
   "cell_type": "code",
   "execution_count": 5,
   "metadata": {
    "colab": {
     "base_uri": "https://localhost:8080/",
     "height": 281
    },
    "colab_type": "code",
    "id": "CKMHzHy7ltUR",
    "outputId": "e77261f5-21e0-4098-a16a-a2afb6b56ae3"
   },
   "outputs": [
    {
     "data": {
      "text/html": [
       "<pre style=\"white-space:pre;overflow-x:auto;line-height:normal;font-family:Menlo,'DejaVu Sans Mono',consolas,'Courier New',monospace\"><span style=\"font-weight: bold\">&lt;</span><span style=\"color: #ff00ff; text-decoration-color: #ff00ff; font-weight: bold\">Figure</span><span style=\"color: #000000; text-decoration-color: #000000\"> size 432x288 with </span><span style=\"color: #008080; text-decoration-color: #008080; font-weight: bold\">1</span><span style=\"color: #000000; text-decoration-color: #000000\"> Axes</span><span style=\"font-weight: bold\">&gt;</span>\n",
       "</pre>\n"
      ],
      "text/plain": [
       "\u001b[1m<\u001b[0m\u001b[1;95mFigure\u001b[0m\u001b[39m size 432x288 with \u001b[0m\u001b[1;36m1\u001b[0m\u001b[39m Axes\u001b[0m\u001b[1m>\u001b[0m\n"
      ]
     },
     "metadata": {},
     "output_type": "display_data"
    },
    {
     "data": {
      "image/png": "[encoded data removed]"
     },
     "metadata": {
      "needs_background": "light"
     },
     "output_type": "display_data"
    }
   ],
   "source": [
    "# check data contains images\n",
    "\n",
    "mnist_dataset.plot_image(17)"
   ]
  },
  {
   "cell_type": "markdown",
   "metadata": {
    "colab_type": "text",
    "id": "tmHENpBuZzvh"
   },
   "source": [
    "## Data Functions"
   ]
  },
  {
   "cell_type": "code",
   "execution_count": 6,
   "metadata": {
    "colab": {},
    "colab_type": "code",
    "id": "px_g8nYPBD3A"
   },
   "outputs": [],
   "source": [
    "# functions to generate random data\n",
    "\n",
    "def generate_random_image(size):\n",
    "    random_data = torch.rand(size)\n",
    "    return random_data\n",
    "\n",
    "\n",
    "def generate_random_seed(size):\n",
    "    random_data = torch.randn(size)\n",
    "    return random_data\n",
    "\n",
    "# size here must only be an integer\n",
    "def generate_random_one_hot(size):\n",
    "    label_tensor = torch.zeros((size))\n",
    "    random_idx = random.randint(0,size-1)\n",
    "    label_tensor[random_idx] = 1.0\n",
    "    return label_tensor"
   ]
  },
  {
   "cell_type": "markdown",
   "metadata": {
    "colab_type": "text",
    "id": "AJ_E9wgYQybx"
   },
   "source": [
    "## Discriminator Network"
   ]
  },
  {
   "cell_type": "code",
   "execution_count": 7,
   "metadata": {
    "colab": {},
    "colab_type": "code",
    "id": "MrgKlTsRAfSk"
   },
   "outputs": [],
   "source": [
    "# discriminator class\n",
    "\n",
    "class Discriminator(nn.Module):\n",
    "    \n",
    "    def __init__(self):\n",
    "        # initialise parent pytorch class\n",
    "        super().__init__()\n",
    "        \n",
    "        # define neural network layers\n",
    "        self.model = nn.Sequential(\n",
    "            nn.Linear(784+10, 200),\n",
    "            nn.LeakyReLU(0.02),\n",
    "\n",
    "            nn.LayerNorm(200),\n",
    "\n",
    "            nn.Linear(200, 1),\n",
    "            nn.Sigmoid()\n",
    "        )\n",
    "        \n",
    "        # create loss function\n",
    "        self.loss_function = nn.BCELoss()\n",
    "\n",
    "        # create optimiser\n",
    "        self.optimiser = torch.optim.Adam(self.parameters(), lr=0.0001)\n",
    "\n",
    "        # counter and accumulator for progress\n",
    "        self.counter = 0;\n",
    "        self.progress = []\n",
    "    \n",
    "    \n",
    "    def forward(self, image_tensor, label_tensor):\n",
    "        # combine seed and label\n",
    "        inputs = torch.cat((image_tensor, label_tensor))\n",
    "        return self.model(inputs)\n",
    "    \n",
    "    \n",
    "    def train(self, inputs, label_tensor, targets):\n",
    "        # calculate the output of the network\n",
    "        outputs = self.forward(inputs, label_tensor)\n",
    "        \n",
    "        # calculate loss\n",
    "        loss = self.loss_function(outputs, targets)\n",
    "\n",
    "        # increase counter and accumulate error every 10\n",
    "        self.counter += 1;\n",
    "        if (self.counter % 10 == 0):\n",
    "            self.progress.append(loss.item())\n",
    "            \n",
    "        if (self.counter % 10000 == 0):\n",
    "            print(\"counter = \", self.counter)\n",
    "\n",
    "        # zero gradients, perform a backward pass, update weights\n",
    "        self.optimiser.zero_grad()\n",
    "        loss.backward()\n",
    "        self.optimiser.step()\n",
    "    \n",
    "    \n",
    "    def plot_progress(self):\n",
    "        df = pd.DataFrame(self.progress, columns=['loss'])\n",
    "        plt_kwagrs = dict(\n",
    "            ylim=(min(self.progress), max(self.progress)), \n",
    "            figsize=(16,8), \n",
    "            alpha=0.1, \n",
    "            marker='.', \n",
    "            grid=True, \n",
    "            yticks=(0, 0.25, 0.5, 1.0, 5.0)\n",
    "        )\n",
    "        df.plot()"
   ]
  },
  {
   "cell_type": "markdown",
   "metadata": {
    "colab_type": "text",
    "id": "IFajrD3xCgsb"
   },
   "source": [
    "## Test Discriminator"
   ]
  },
  {
   "cell_type": "code",
   "execution_count": 8,
   "metadata": {
    "colab": {
     "base_uri": "https://localhost:8080/",
     "height": 255
    },
    "colab_type": "code",
    "id": "AXgCZ9DiCl3A",
    "outputId": "5b161bad-0e2c-4b2e-d713-4d5e1b3c049b"
   },
   "outputs": [
    {
     "data": {
      "text/html": [
       "<pre style=\"white-space:pre;overflow-x:auto;line-height:normal;font-family:Menlo,'DejaVu Sans Mono',consolas,'Courier New',monospace\">counter =  <span style=\"color: #008080; text-decoration-color: #008080; font-weight: bold\">10000</span>\n",
       "</pre>\n"
      ],
      "text/plain": [
       "counter =  \u001b[1;36m10000\u001b[0m\n"
      ]
     },
     "metadata": {},
     "output_type": "display_data"
    },
    {
     "data": {
      "text/html": [
       "<pre style=\"white-space:pre;overflow-x:auto;line-height:normal;font-family:Menlo,'DejaVu Sans Mono',consolas,'Courier New',monospace\">counter =  <span style=\"color: #008080; text-decoration-color: #008080; font-weight: bold\">20000</span>\n",
       "</pre>\n"
      ],
      "text/plain": [
       "counter =  \u001b[1;36m20000\u001b[0m\n"
      ]
     },
     "metadata": {},
     "output_type": "display_data"
    },
    {
     "data": {
      "text/html": [
       "<pre style=\"white-space:pre;overflow-x:auto;line-height:normal;font-family:Menlo,'DejaVu Sans Mono',consolas,'Courier New',monospace\">counter =  <span style=\"color: #008080; text-decoration-color: #008080; font-weight: bold\">30000</span>\n",
       "</pre>\n"
      ],
      "text/plain": [
       "counter =  \u001b[1;36m30000\u001b[0m\n"
      ]
     },
     "metadata": {},
     "output_type": "display_data"
    },
    {
     "data": {
      "text/html": [
       "<pre style=\"white-space:pre;overflow-x:auto;line-height:normal;font-family:Menlo,'DejaVu Sans Mono',consolas,'Courier New',monospace\">counter =  <span style=\"color: #008080; text-decoration-color: #008080; font-weight: bold\">40000</span>\n",
       "</pre>\n"
      ],
      "text/plain": [
       "counter =  \u001b[1;36m40000\u001b[0m\n"
      ]
     },
     "metadata": {},
     "output_type": "display_data"
    },
    {
     "data": {
      "text/html": [
       "<pre style=\"white-space:pre;overflow-x:auto;line-height:normal;font-family:Menlo,'DejaVu Sans Mono',consolas,'Courier New',monospace\">counter =  <span style=\"color: #008080; text-decoration-color: #008080; font-weight: bold\">50000</span>\n",
       "</pre>\n"
      ],
      "text/plain": [
       "counter =  \u001b[1;36m50000\u001b[0m\n"
      ]
     },
     "metadata": {},
     "output_type": "display_data"
    },
    {
     "data": {
      "text/html": [
       "<pre style=\"white-space:pre;overflow-x:auto;line-height:normal;font-family:Menlo,'DejaVu Sans Mono',consolas,'Courier New',monospace\">counter =  <span style=\"color: #008080; text-decoration-color: #008080; font-weight: bold\">60000</span>\n",
       "</pre>\n"
      ],
      "text/plain": [
       "counter =  \u001b[1;36m60000\u001b[0m\n"
      ]
     },
     "metadata": {},
     "output_type": "display_data"
    },
    {
     "data": {
      "text/html": [
       "<pre style=\"white-space:pre;overflow-x:auto;line-height:normal;font-family:Menlo,'DejaVu Sans Mono',consolas,'Courier New',monospace\">counter =  <span style=\"color: #008080; text-decoration-color: #008080; font-weight: bold\">70000</span>\n",
       "</pre>\n"
      ],
      "text/plain": [
       "counter =  \u001b[1;36m70000\u001b[0m\n"
      ]
     },
     "metadata": {},
     "output_type": "display_data"
    },
    {
     "data": {
      "text/html": [
       "<pre style=\"white-space:pre;overflow-x:auto;line-height:normal;font-family:Menlo,'DejaVu Sans Mono',consolas,'Courier New',monospace\">counter =  <span style=\"color: #008080; text-decoration-color: #008080; font-weight: bold\">80000</span>\n",
       "</pre>\n"
      ],
      "text/plain": [
       "counter =  \u001b[1;36m80000\u001b[0m\n"
      ]
     },
     "metadata": {},
     "output_type": "display_data"
    },
    {
     "data": {
      "text/html": [
       "<pre style=\"white-space:pre;overflow-x:auto;line-height:normal;font-family:Menlo,'DejaVu Sans Mono',consolas,'Courier New',monospace\">counter =  <span style=\"color: #008080; text-decoration-color: #008080; font-weight: bold\">90000</span>\n",
       "</pre>\n"
      ],
      "text/plain": [
       "counter =  \u001b[1;36m90000\u001b[0m\n"
      ]
     },
     "metadata": {},
     "output_type": "display_data"
    },
    {
     "data": {
      "text/html": [
       "<pre style=\"white-space:pre;overflow-x:auto;line-height:normal;font-family:Menlo,'DejaVu Sans Mono',consolas,'Courier New',monospace\">counter =  <span style=\"color: #008080; text-decoration-color: #008080; font-weight: bold\">100000</span>\n",
       "</pre>\n"
      ],
      "text/plain": [
       "counter =  \u001b[1;36m100000\u001b[0m\n"
      ]
     },
     "metadata": {},
     "output_type": "display_data"
    },
    {
     "data": {
      "text/html": [
       "<pre style=\"white-space:pre;overflow-x:auto;line-height:normal;font-family:Menlo,'DejaVu Sans Mono',consolas,'Courier New',monospace\">counter =  <span style=\"color: #008080; text-decoration-color: #008080; font-weight: bold\">110000</span>\n",
       "</pre>\n"
      ],
      "text/plain": [
       "counter =  \u001b[1;36m110000\u001b[0m\n"
      ]
     },
     "metadata": {},
     "output_type": "display_data"
    },
    {
     "data": {
      "text/html": [
       "<pre style=\"white-space:pre;overflow-x:auto;line-height:normal;font-family:Menlo,'DejaVu Sans Mono',consolas,'Courier New',monospace\">counter =  <span style=\"color: #008080; text-decoration-color: #008080; font-weight: bold\">120000</span>\n",
       "</pre>\n"
      ],
      "text/plain": [
       "counter =  \u001b[1;36m120000\u001b[0m\n"
      ]
     },
     "metadata": {},
     "output_type": "display_data"
    },
    {
     "name": "stdout",
     "output_type": "stream",
     "text": [
      "CPU times: user 1h 47min 39s, sys: 1h 49min 32s, total: 3h 37min 11s\n",
      "Wall time: 12min 12s\n"
     ]
    }
   ],
   "source": [
    "%%time\n",
    "# test discriminator can separate real data from random noise\n",
    "\n",
    "D = Discriminator()\n",
    "\n",
    "for label, image_data_tensor, label_tensor in mnist_dataset:\n",
    "    # real data\n",
    "    D.train(image_data_tensor, label_tensor, torch.FloatTensor([1.0]))\n",
    "    # fake data\n",
    "    D.train(generate_random_image(784), generate_random_one_hot(10), torch.FloatTensor([0.0]))"
   ]
  },
  {
   "cell_type": "code",
   "execution_count": 9,
   "metadata": {
    "colab": {
     "base_uri": "https://localhost:8080/",
     "height": 487
    },
    "colab_type": "code",
    "id": "aBh8AGJFDhcU",
    "outputId": "706d8c7d-4b52-4f5a-977b-2d7e207962a5"
   },
   "outputs": [
    {
     "data": {
      "text/html": [
       "<pre style=\"white-space:pre;overflow-x:auto;line-height:normal;font-family:Menlo,'DejaVu Sans Mono',consolas,'Courier New',monospace\"><span style=\"font-weight: bold\">&lt;</span><span style=\"color: #ff00ff; text-decoration-color: #ff00ff; font-weight: bold\">Figure</span><span style=\"color: #000000; text-decoration-color: #000000\"> size 432x288 with </span><span style=\"color: #008080; text-decoration-color: #008080; font-weight: bold\">1</span><span style=\"color: #000000; text-decoration-color: #000000\"> Axes</span><span style=\"font-weight: bold\">&gt;</span>\n",
       "</pre>\n"
      ],
      "text/plain": [
       "\u001b[1m<\u001b[0m\u001b[1;95mFigure\u001b[0m\u001b[39m size 432x288 with \u001b[0m\u001b[1;36m1\u001b[0m\u001b[39m Axes\u001b[0m\u001b[1m>\u001b[0m\n"
      ]
     },
     "metadata": {},
     "output_type": "display_data"
    },
    {
     "data": {
      "image/png": "[encoded data removed]"
     },
     "metadata": {
      "needs_background": "light"
     },
     "output_type": "display_data"
    }
   ],
   "source": [
    "# plot discriminator loss\n",
    "\n",
    "D.plot_progress()"
   ]
  },
  {
   "cell_type": "code",
   "execution_count": 10,
   "metadata": {
    "colab": {
     "base_uri": "https://localhost:8080/",
     "height": 153
    },
    "colab_type": "code",
    "id": "MUMJn6efDkH5",
    "outputId": "22d6e506-7758-466a-c06d-c59c063d43fe"
   },
   "outputs": [
    {
     "data": {
      "text/html": [
       "<pre style=\"white-space:pre;overflow-x:auto;line-height:normal;font-family:Menlo,'DejaVu Sans Mono',consolas,'Courier New',monospace\"><span style=\"color: #008080; text-decoration-color: #008080; font-weight: bold\">1.0</span>\n",
       "</pre>\n"
      ],
      "text/plain": [
       "\u001b[1;36m1.0\u001b[0m\n"
      ]
     },
     "metadata": {},
     "output_type": "display_data"
    },
    {
     "data": {
      "text/html": [
       "<pre style=\"white-space:pre;overflow-x:auto;line-height:normal;font-family:Menlo,'DejaVu Sans Mono',consolas,'Courier New',monospace\"><span style=\"color: #008080; text-decoration-color: #008080; font-weight: bold\">1.0</span>\n",
       "</pre>\n"
      ],
      "text/plain": [
       "\u001b[1;36m1.0\u001b[0m\n"
      ]
     },
     "metadata": {},
     "output_type": "display_data"
    },
    {
     "data": {
      "text/html": [
       "<pre style=\"white-space:pre;overflow-x:auto;line-height:normal;font-family:Menlo,'DejaVu Sans Mono',consolas,'Courier New',monospace\"><span style=\"color: #008080; text-decoration-color: #008080; font-weight: bold\">1.0</span>\n",
       "</pre>\n"
      ],
      "text/plain": [
       "\u001b[1;36m1.0\u001b[0m\n"
      ]
     },
     "metadata": {},
     "output_type": "display_data"
    },
    {
     "data": {
      "text/html": [
       "<pre style=\"white-space:pre;overflow-x:auto;line-height:normal;font-family:Menlo,'DejaVu Sans Mono',consolas,'Courier New',monospace\"><span style=\"color: #008080; text-decoration-color: #008080; font-weight: bold\">1.0</span>\n",
       "</pre>\n"
      ],
      "text/plain": [
       "\u001b[1;36m1.0\u001b[0m\n"
      ]
     },
     "metadata": {},
     "output_type": "display_data"
    },
    {
     "data": {
      "text/html": [
       "<pre style=\"white-space:pre;overflow-x:auto;line-height:normal;font-family:Menlo,'DejaVu Sans Mono',consolas,'Courier New',monospace\"><span style=\"color: #008080; text-decoration-color: #008080; font-weight: bold\">9.535317847808589e-12</span>\n",
       "</pre>\n"
      ],
      "text/plain": [
       "\u001b[1;36m9.535317847808589e-12\u001b[0m\n"
      ]
     },
     "metadata": {},
     "output_type": "display_data"
    },
    {
     "data": {
      "text/html": [
       "<pre style=\"white-space:pre;overflow-x:auto;line-height:normal;font-family:Menlo,'DejaVu Sans Mono',consolas,'Courier New',monospace\"><span style=\"color: #008080; text-decoration-color: #008080; font-weight: bold\">8.55430309920635e-12</span>\n",
       "</pre>\n"
      ],
      "text/plain": [
       "\u001b[1;36m8.55430309920635e-12\u001b[0m\n"
      ]
     },
     "metadata": {},
     "output_type": "display_data"
    },
    {
     "data": {
      "text/html": [
       "<pre style=\"white-space:pre;overflow-x:auto;line-height:normal;font-family:Menlo,'DejaVu Sans Mono',consolas,'Courier New',monospace\"><span style=\"color: #008080; text-decoration-color: #008080; font-weight: bold\">9.428129284227982e-12</span>\n",
       "</pre>\n"
      ],
      "text/plain": [
       "\u001b[1;36m9.428129284227982e-12\u001b[0m\n"
      ]
     },
     "metadata": {},
     "output_type": "display_data"
    },
    {
     "data": {
      "text/html": [
       "<pre style=\"white-space:pre;overflow-x:auto;line-height:normal;font-family:Menlo,'DejaVu Sans Mono',consolas,'Courier New',monospace\"><span style=\"color: #008080; text-decoration-color: #008080; font-weight: bold\">9.356829547280121e-12</span>\n",
       "</pre>\n"
      ],
      "text/plain": [
       "\u001b[1;36m9.356829547280121e-12\u001b[0m\n"
      ]
     },
     "metadata": {},
     "output_type": "display_data"
    }
   ],
   "source": [
    "# manually run discriminator to check it can tell real data from fake\n",
    "\n",
    "for i in range(4):\n",
    "    label, image_data_tensor, label_tensor = mnist_dataset[random.randint(0,60000)]\n",
    "    print( D.forward( image_data_tensor, label_tensor ).item() )\n",
    "\n",
    "for i in range(4):\n",
    "    print( D.forward( generate_random_image(784), generate_random_one_hot(10) ).item() )"
   ]
  },
  {
   "cell_type": "markdown",
   "metadata": {
    "colab_type": "text",
    "id": "SsE9-KrguowG"
   },
   "source": [
    "## Generator Network"
   ]
  },
  {
   "cell_type": "code",
   "execution_count": 11,
   "metadata": {
    "colab": {},
    "colab_type": "code",
    "id": "j-JwJlKDh_Ej"
   },
   "outputs": [],
   "source": [
    "class Generator(nn.Module):\n",
    "    \n",
    "    def __init__(self):\n",
    "        # initialise parent pytorch class\n",
    "        super().__init__()\n",
    "        \n",
    "        # define neural network layers\n",
    "        self.model = nn.Sequential(\n",
    "            nn.Linear(100+10, 200),\n",
    "            nn.LeakyReLU(0.02),\n",
    "\n",
    "            nn.LayerNorm(200),\n",
    "\n",
    "            nn.Linear(200, 784),\n",
    "            nn.Sigmoid()\n",
    "        )\n",
    "        \n",
    "        # create optimiser, simple stochastic gradient descent\n",
    "        self.optimiser = torch.optim.Adam(self.parameters(), lr=0.0001)\n",
    "\n",
    "        # counter and accumulator for progress\n",
    "        self.counter = 0;\n",
    "        self.progress = []\n",
    "        \n",
    "    \n",
    "    def forward(self, seed_tensor, label_tensor):        \n",
    "        # combine seed and label\n",
    "        inputs = torch.cat((seed_tensor, label_tensor))\n",
    "        return self.model(inputs)\n",
    "\n",
    "\n",
    "    def train(self, D, inputs, label_tensor, targets):\n",
    "        # calculate the output of the network\n",
    "        g_output = self.forward(inputs, label_tensor)\n",
    "        \n",
    "        # pass onto Discriminator\n",
    "        d_output = D.forward(g_output, label_tensor)\n",
    "        \n",
    "        # calculate error\n",
    "        loss = D.loss_function(d_output, targets)\n",
    "\n",
    "        # increase counter and accumulate error every 10\n",
    "        self.counter += 1;\n",
    "        if (self.counter % 10 == 0):\n",
    "            self.progress.append(loss.item())\n",
    "            pass\n",
    "\n",
    "        # zero gradients, perform a backward pass, update weights\n",
    "        self.optimiser.zero_grad()\n",
    "        loss.backward()\n",
    "        self.optimiser.step()\n",
    "\n",
    "    \n",
    "    def plot_images(self, label):\n",
    "        label_tensor = torch.zeros((10))\n",
    "        label_tensor[label] = 1.0\n",
    "        # plot a 3 column, 2 row array of sample images\n",
    "        f, axarr = plt.subplots(2,3, figsize=(16,8))\n",
    "        for i in range(2):\n",
    "            for j in range(3):\n",
    "                axarr[i,j].imshow(G.forward(generate_random_seed(100), label_tensor).detach().cpu().numpy().reshape(28,28), interpolation='none', cmap='Blues')\n",
    "                \n",
    "    \n",
    "    def plot_progress(self):\n",
    "        df = pd.DataFrame(self.progress, columns=['loss'])\n",
    "        plt_kwagrs = dict(\n",
    "            ylim=(min(self.progress), max(self.progress)), \n",
    "            figsize=(16, 8), \n",
    "            alpha=0.1, \n",
    "            marker='.', \n",
    "            grid=True, \n",
    "            yticks=(0, 0.25, 0.5, 1.0, 5.0)\n",
    "        )\n",
    "        df.plot()"
   ]
  },
  {
   "cell_type": "markdown",
   "metadata": {
    "colab_type": "text",
    "id": "SwjycPNXxF7G"
   },
   "source": [
    "## Test Generator Output"
   ]
  },
  {
   "cell_type": "code",
   "execution_count": 12,
   "metadata": {
    "colab": {
     "base_uri": "https://localhost:8080/",
     "height": 282
    },
    "colab_type": "code",
    "id": "84vbfjGRwodN",
    "outputId": "9b7e4bea-e0b1-4318-f754-c0d87fbc49df"
   },
   "outputs": [
    {
     "data": {
      "text/html": [
       "<pre style=\"white-space:pre;overflow-x:auto;line-height:normal;font-family:Menlo,'DejaVu Sans Mono',consolas,'Courier New',monospace\"><span style=\"font-weight: bold\">&lt;</span><span style=\"color: #ff00ff; text-decoration-color: #ff00ff; font-weight: bold\">matplotlib.image.AxesImage</span><span style=\"color: #000000; text-decoration-color: #000000\"> object at </span><span style=\"color: #008080; text-decoration-color: #008080; font-weight: bold\">0x7f6a5061f760</span><span style=\"font-weight: bold\">&gt;</span>\n",
       "</pre>\n"
      ],
      "text/plain": [
       "\u001b[1m<\u001b[0m\u001b[1;95mmatplotlib.image.AxesImage\u001b[0m\u001b[39m object at \u001b[0m\u001b[1;36m0x7f6a5061f760\u001b[0m\u001b[1m>\u001b[0m\n"
      ]
     },
     "metadata": {},
     "output_type": "display_data"
    },
    {
     "data": {
      "text/html": [
       "<pre style=\"white-space:pre;overflow-x:auto;line-height:normal;font-family:Menlo,'DejaVu Sans Mono',consolas,'Courier New',monospace\"><span style=\"font-weight: bold\">&lt;</span><span style=\"color: #ff00ff; text-decoration-color: #ff00ff; font-weight: bold\">Figure</span><span style=\"color: #000000; text-decoration-color: #000000\"> size 432x288 with </span><span style=\"color: #008080; text-decoration-color: #008080; font-weight: bold\">1</span><span style=\"color: #000000; text-decoration-color: #000000\"> Axes</span><span style=\"font-weight: bold\">&gt;</span>\n",
       "</pre>\n"
      ],
      "text/plain": [
       "\u001b[1m<\u001b[0m\u001b[1;95mFigure\u001b[0m\u001b[39m size 432x288 with \u001b[0m\u001b[1;36m1\u001b[0m\u001b[39m Axes\u001b[0m\u001b[1m>\u001b[0m\n"
      ]
     },
     "metadata": {},
     "output_type": "display_data"
    },
    {
     "data": {
      "image/png": "[encoded data removed]"
     },
     "metadata": {
      "needs_background": "light"
     },
     "output_type": "display_data"
    }
   ],
   "source": [
    "# check the generator output is of the right type and shape\n",
    "\n",
    "G = Generator()\n",
    "\n",
    "output = G.forward(generate_random_seed(100), generate_random_one_hot(10))\n",
    "\n",
    "img = output.detach().numpy().reshape(28,28)\n",
    "\n",
    "plt.imshow(img, interpolation='none', cmap='Blues')"
   ]
  },
  {
   "cell_type": "markdown",
   "metadata": {
    "colab_type": "text",
    "id": "5k9SRwIkxTLi"
   },
   "source": [
    "## Train GAN"
   ]
  },
  {
   "cell_type": "code",
   "execution_count": 13,
   "metadata": {
    "colab": {},
    "colab_type": "code",
    "id": "wO1iVIkwPZeJ"
   },
   "outputs": [],
   "source": [
    "# create Discriminator and Generator\n",
    "\n",
    "D = Discriminator()\n",
    "G = Generator()"
   ]
  },
  {
   "cell_type": "code",
   "execution_count": 14,
   "metadata": {
    "colab": {},
    "colab_type": "code",
    "id": "radA76P9xWr1"
   },
   "outputs": [
    {
     "data": {
      "text/html": [
       "<pre style=\"white-space:pre;overflow-x:auto;line-height:normal;font-family:Menlo,'DejaVu Sans Mono',consolas,'Courier New',monospace\">epoch =  <span style=\"color: #008080; text-decoration-color: #008080; font-weight: bold\">1</span>\n",
       "</pre>\n"
      ],
      "text/plain": [
       "epoch =  \u001b[1;36m1\u001b[0m\n"
      ]
     },
     "metadata": {},
     "output_type": "display_data"
    },
    {
     "data": {
      "text/html": [
       "<pre style=\"white-space:pre;overflow-x:auto;line-height:normal;font-family:Menlo,'DejaVu Sans Mono',consolas,'Courier New',monospace\">counter =  <span style=\"color: #008080; text-decoration-color: #008080; font-weight: bold\">10000</span>\n",
       "</pre>\n"
      ],
      "text/plain": [
       "counter =  \u001b[1;36m10000\u001b[0m\n"
      ]
     },
     "metadata": {},
     "output_type": "display_data"
    },
    {
     "data": {
      "text/html": [
       "<pre style=\"white-space:pre;overflow-x:auto;line-height:normal;font-family:Menlo,'DejaVu Sans Mono',consolas,'Courier New',monospace\">counter =  <span style=\"color: #008080; text-decoration-color: #008080; font-weight: bold\">20000</span>\n",
       "</pre>\n"
      ],
      "text/plain": [
       "counter =  \u001b[1;36m20000\u001b[0m\n"
      ]
     },
     "metadata": {},
     "output_type": "display_data"
    },
    {
     "data": {
      "text/html": [
       "<pre style=\"white-space:pre;overflow-x:auto;line-height:normal;font-family:Menlo,'DejaVu Sans Mono',consolas,'Courier New',monospace\">counter =  <span style=\"color: #008080; text-decoration-color: #008080; font-weight: bold\">30000</span>\n",
       "</pre>\n"
      ],
      "text/plain": [
       "counter =  \u001b[1;36m30000\u001b[0m\n"
      ]
     },
     "metadata": {},
     "output_type": "display_data"
    },
    {
     "data": {
      "text/html": [
       "<pre style=\"white-space:pre;overflow-x:auto;line-height:normal;font-family:Menlo,'DejaVu Sans Mono',consolas,'Courier New',monospace\">counter =  <span style=\"color: #008080; text-decoration-color: #008080; font-weight: bold\">40000</span>\n",
       "</pre>\n"
      ],
      "text/plain": [
       "counter =  \u001b[1;36m40000\u001b[0m\n"
      ]
     },
     "metadata": {},
     "output_type": "display_data"
    },
    {
     "data": {
      "text/html": [
       "<pre style=\"white-space:pre;overflow-x:auto;line-height:normal;font-family:Menlo,'DejaVu Sans Mono',consolas,'Courier New',monospace\">counter =  <span style=\"color: #008080; text-decoration-color: #008080; font-weight: bold\">50000</span>\n",
       "</pre>\n"
      ],
      "text/plain": [
       "counter =  \u001b[1;36m50000\u001b[0m\n"
      ]
     },
     "metadata": {},
     "output_type": "display_data"
    },
    {
     "data": {
      "text/html": [
       "<pre style=\"white-space:pre;overflow-x:auto;line-height:normal;font-family:Menlo,'DejaVu Sans Mono',consolas,'Courier New',monospace\">counter =  <span style=\"color: #008080; text-decoration-color: #008080; font-weight: bold\">60000</span>\n",
       "</pre>\n"
      ],
      "text/plain": [
       "counter =  \u001b[1;36m60000\u001b[0m\n"
      ]
     },
     "metadata": {},
     "output_type": "display_data"
    },
    {
     "data": {
      "text/html": [
       "<pre style=\"white-space:pre;overflow-x:auto;line-height:normal;font-family:Menlo,'DejaVu Sans Mono',consolas,'Courier New',monospace\">counter =  <span style=\"color: #008080; text-decoration-color: #008080; font-weight: bold\">70000</span>\n",
       "</pre>\n"
      ],
      "text/plain": [
       "counter =  \u001b[1;36m70000\u001b[0m\n"
      ]
     },
     "metadata": {},
     "output_type": "display_data"
    },
    {
     "data": {
      "text/html": [
       "<pre style=\"white-space:pre;overflow-x:auto;line-height:normal;font-family:Menlo,'DejaVu Sans Mono',consolas,'Courier New',monospace\">counter =  <span style=\"color: #008080; text-decoration-color: #008080; font-weight: bold\">80000</span>\n",
       "</pre>\n"
      ],
      "text/plain": [
       "counter =  \u001b[1;36m80000\u001b[0m\n"
      ]
     },
     "metadata": {},
     "output_type": "display_data"
    },
    {
     "data": {
      "text/html": [
       "<pre style=\"white-space:pre;overflow-x:auto;line-height:normal;font-family:Menlo,'DejaVu Sans Mono',consolas,'Courier New',monospace\">counter =  <span style=\"color: #008080; text-decoration-color: #008080; font-weight: bold\">90000</span>\n",
       "</pre>\n"
      ],
      "text/plain": [
       "counter =  \u001b[1;36m90000\u001b[0m\n"
      ]
     },
     "metadata": {},
     "output_type": "display_data"
    },
    {
     "data": {
      "text/html": [
       "<pre style=\"white-space:pre;overflow-x:auto;line-height:normal;font-family:Menlo,'DejaVu Sans Mono',consolas,'Courier New',monospace\">counter =  <span style=\"color: #008080; text-decoration-color: #008080; font-weight: bold\">100000</span>\n",
       "</pre>\n"
      ],
      "text/plain": [
       "counter =  \u001b[1;36m100000\u001b[0m\n"
      ]
     },
     "metadata": {},
     "output_type": "display_data"
    },
    {
     "data": {
      "text/html": [
       "<pre style=\"white-space:pre;overflow-x:auto;line-height:normal;font-family:Menlo,'DejaVu Sans Mono',consolas,'Courier New',monospace\">counter =  <span style=\"color: #008080; text-decoration-color: #008080; font-weight: bold\">110000</span>\n",
       "</pre>\n"
      ],
      "text/plain": [
       "counter =  \u001b[1;36m110000\u001b[0m\n"
      ]
     },
     "metadata": {},
     "output_type": "display_data"
    },
    {
     "data": {
      "text/html": [
       "<pre style=\"white-space:pre;overflow-x:auto;line-height:normal;font-family:Menlo,'DejaVu Sans Mono',consolas,'Courier New',monospace\">counter =  <span style=\"color: #008080; text-decoration-color: #008080; font-weight: bold\">120000</span>\n",
       "</pre>\n"
      ],
      "text/plain": [
       "counter =  \u001b[1;36m120000\u001b[0m\n"
      ]
     },
     "metadata": {},
     "output_type": "display_data"
    },
    {
     "data": {
      "text/html": [
       "<pre style=\"white-space:pre;overflow-x:auto;line-height:normal;font-family:Menlo,'DejaVu Sans Mono',consolas,'Courier New',monospace\">epoch =  <span style=\"color: #008080; text-decoration-color: #008080; font-weight: bold\">2</span>\n",
       "</pre>\n"
      ],
      "text/plain": [
       "epoch =  \u001b[1;36m2\u001b[0m\n"
      ]
     },
     "metadata": {},
     "output_type": "display_data"
    },
    {
     "data": {
      "text/html": [
       "<pre style=\"white-space:pre;overflow-x:auto;line-height:normal;font-family:Menlo,'DejaVu Sans Mono',consolas,'Courier New',monospace\">counter =  <span style=\"color: #008080; text-decoration-color: #008080; font-weight: bold\">130000</span>\n",
       "</pre>\n"
      ],
      "text/plain": [
       "counter =  \u001b[1;36m130000\u001b[0m\n"
      ]
     },
     "metadata": {},
     "output_type": "display_data"
    },
    {
     "data": {
      "text/html": [
       "<pre style=\"white-space:pre;overflow-x:auto;line-height:normal;font-family:Menlo,'DejaVu Sans Mono',consolas,'Courier New',monospace\">counter =  <span style=\"color: #008080; text-decoration-color: #008080; font-weight: bold\">140000</span>\n",
       "</pre>\n"
      ],
      "text/plain": [
       "counter =  \u001b[1;36m140000\u001b[0m\n"
      ]
     },
     "metadata": {},
     "output_type": "display_data"
    },
    {
     "data": {
      "text/html": [
       "<pre style=\"white-space:pre;overflow-x:auto;line-height:normal;font-family:Menlo,'DejaVu Sans Mono',consolas,'Courier New',monospace\">counter =  <span style=\"color: #008080; text-decoration-color: #008080; font-weight: bold\">150000</span>\n",
       "</pre>\n"
      ],
      "text/plain": [
       "counter =  \u001b[1;36m150000\u001b[0m\n"
      ]
     },
     "metadata": {},
     "output_type": "display_data"
    },
    {
     "data": {
      "text/html": [
       "<pre style=\"white-space:pre;overflow-x:auto;line-height:normal;font-family:Menlo,'DejaVu Sans Mono',consolas,'Courier New',monospace\">counter =  <span style=\"color: #008080; text-decoration-color: #008080; font-weight: bold\">160000</span>\n",
       "</pre>\n"
      ],
      "text/plain": [
       "counter =  \u001b[1;36m160000\u001b[0m\n"
      ]
     },
     "metadata": {},
     "output_type": "display_data"
    },
    {
     "data": {
      "text/html": [
       "<pre style=\"white-space:pre;overflow-x:auto;line-height:normal;font-family:Menlo,'DejaVu Sans Mono',consolas,'Courier New',monospace\">counter =  <span style=\"color: #008080; text-decoration-color: #008080; font-weight: bold\">170000</span>\n",
       "</pre>\n"
      ],
      "text/plain": [
       "counter =  \u001b[1;36m170000\u001b[0m\n"
      ]
     },
     "metadata": {},
     "output_type": "display_data"
    },
    {
     "data": {
      "text/html": [
       "<pre style=\"white-space:pre;overflow-x:auto;line-height:normal;font-family:Menlo,'DejaVu Sans Mono',consolas,'Courier New',monospace\">counter =  <span style=\"color: #008080; text-decoration-color: #008080; font-weight: bold\">180000</span>\n",
       "</pre>\n"
      ],
      "text/plain": [
       "counter =  \u001b[1;36m180000\u001b[0m\n"
      ]
     },
     "metadata": {},
     "output_type": "display_data"
    },
    {
     "data": {
      "text/html": [
       "<pre style=\"white-space:pre;overflow-x:auto;line-height:normal;font-family:Menlo,'DejaVu Sans Mono',consolas,'Courier New',monospace\">counter =  <span style=\"color: #008080; text-decoration-color: #008080; font-weight: bold\">190000</span>\n",
       "</pre>\n"
      ],
      "text/plain": [
       "counter =  \u001b[1;36m190000\u001b[0m\n"
      ]
     },
     "metadata": {},
     "output_type": "display_data"
    },
    {
     "data": {
      "text/html": [
       "<pre style=\"white-space:pre;overflow-x:auto;line-height:normal;font-family:Menlo,'DejaVu Sans Mono',consolas,'Courier New',monospace\">counter =  <span style=\"color: #008080; text-decoration-color: #008080; font-weight: bold\">200000</span>\n",
       "</pre>\n"
      ],
      "text/plain": [
       "counter =  \u001b[1;36m200000\u001b[0m\n"
      ]
     },
     "metadata": {},
     "output_type": "display_data"
    },
    {
     "data": {
      "text/html": [
       "<pre style=\"white-space:pre;overflow-x:auto;line-height:normal;font-family:Menlo,'DejaVu Sans Mono',consolas,'Courier New',monospace\">counter =  <span style=\"color: #008080; text-decoration-color: #008080; font-weight: bold\">210000</span>\n",
       "</pre>\n"
      ],
      "text/plain": [
       "counter =  \u001b[1;36m210000\u001b[0m\n"
      ]
     },
     "metadata": {},
     "output_type": "display_data"
    },
    {
     "data": {
      "text/html": [
       "<pre style=\"white-space:pre;overflow-x:auto;line-height:normal;font-family:Menlo,'DejaVu Sans Mono',consolas,'Courier New',monospace\">counter =  <span style=\"color: #008080; text-decoration-color: #008080; font-weight: bold\">220000</span>\n",
       "</pre>\n"
      ],
      "text/plain": [
       "counter =  \u001b[1;36m220000\u001b[0m\n"
      ]
     },
     "metadata": {},
     "output_type": "display_data"
    },
    {
     "data": {
      "text/html": [
       "<pre style=\"white-space:pre;overflow-x:auto;line-height:normal;font-family:Menlo,'DejaVu Sans Mono',consolas,'Courier New',monospace\">counter =  <span style=\"color: #008080; text-decoration-color: #008080; font-weight: bold\">230000</span>\n",
       "</pre>\n"
      ],
      "text/plain": [
       "counter =  \u001b[1;36m230000\u001b[0m\n"
      ]
     },
     "metadata": {},
     "output_type": "display_data"
    },
    {
     "data": {
      "text/html": [
       "<pre style=\"white-space:pre;overflow-x:auto;line-height:normal;font-family:Menlo,'DejaVu Sans Mono',consolas,'Courier New',monospace\">counter =  <span style=\"color: #008080; text-decoration-color: #008080; font-weight: bold\">240000</span>\n",
       "</pre>\n"
      ],
      "text/plain": [
       "counter =  \u001b[1;36m240000\u001b[0m\n"
      ]
     },
     "metadata": {},
     "output_type": "display_data"
    },
    {
     "data": {
      "text/html": [
       "<pre style=\"white-space:pre;overflow-x:auto;line-height:normal;font-family:Menlo,'DejaVu Sans Mono',consolas,'Courier New',monospace\">epoch =  <span style=\"color: #008080; text-decoration-color: #008080; font-weight: bold\">3</span>\n",
       "</pre>\n"
      ],
      "text/plain": [
       "epoch =  \u001b[1;36m3\u001b[0m\n"
      ]
     },
     "metadata": {},
     "output_type": "display_data"
    },
    {
     "data": {
      "text/html": [
       "<pre style=\"white-space:pre;overflow-x:auto;line-height:normal;font-family:Menlo,'DejaVu Sans Mono',consolas,'Courier New',monospace\">counter =  <span style=\"color: #008080; text-decoration-color: #008080; font-weight: bold\">250000</span>\n",
       "</pre>\n"
      ],
      "text/plain": [
       "counter =  \u001b[1;36m250000\u001b[0m\n"
      ]
     },
     "metadata": {},
     "output_type": "display_data"
    },
    {
     "data": {
      "text/html": [
       "<pre style=\"white-space:pre;overflow-x:auto;line-height:normal;font-family:Menlo,'DejaVu Sans Mono',consolas,'Courier New',monospace\">counter =  <span style=\"color: #008080; text-decoration-color: #008080; font-weight: bold\">260000</span>\n",
       "</pre>\n"
      ],
      "text/plain": [
       "counter =  \u001b[1;36m260000\u001b[0m\n"
      ]
     },
     "metadata": {},
     "output_type": "display_data"
    },
    {
     "data": {
      "text/html": [
       "<pre style=\"white-space:pre;overflow-x:auto;line-height:normal;font-family:Menlo,'DejaVu Sans Mono',consolas,'Courier New',monospace\">counter =  <span style=\"color: #008080; text-decoration-color: #008080; font-weight: bold\">270000</span>\n",
       "</pre>\n"
      ],
      "text/plain": [
       "counter =  \u001b[1;36m270000\u001b[0m\n"
      ]
     },
     "metadata": {},
     "output_type": "display_data"
    },
    {
     "data": {
      "text/html": [
       "<pre style=\"white-space:pre;overflow-x:auto;line-height:normal;font-family:Menlo,'DejaVu Sans Mono',consolas,'Courier New',monospace\">counter =  <span style=\"color: #008080; text-decoration-color: #008080; font-weight: bold\">280000</span>\n",
       "</pre>\n"
      ],
      "text/plain": [
       "counter =  \u001b[1;36m280000\u001b[0m\n"
      ]
     },
     "metadata": {},
     "output_type": "display_data"
    },
    {
     "data": {
      "text/html": [
       "<pre style=\"white-space:pre;overflow-x:auto;line-height:normal;font-family:Menlo,'DejaVu Sans Mono',consolas,'Courier New',monospace\">counter =  <span style=\"color: #008080; text-decoration-color: #008080; font-weight: bold\">290000</span>\n",
       "</pre>\n"
      ],
      "text/plain": [
       "counter =  \u001b[1;36m290000\u001b[0m\n"
      ]
     },
     "metadata": {},
     "output_type": "display_data"
    },
    {
     "data": {
      "text/html": [
       "<pre style=\"white-space:pre;overflow-x:auto;line-height:normal;font-family:Menlo,'DejaVu Sans Mono',consolas,'Courier New',monospace\">counter =  <span style=\"color: #008080; text-decoration-color: #008080; font-weight: bold\">300000</span>\n",
       "</pre>\n"
      ],
      "text/plain": [
       "counter =  \u001b[1;36m300000\u001b[0m\n"
      ]
     },
     "metadata": {},
     "output_type": "display_data"
    },
    {
     "data": {
      "text/html": [
       "<pre style=\"white-space:pre;overflow-x:auto;line-height:normal;font-family:Menlo,'DejaVu Sans Mono',consolas,'Courier New',monospace\">counter =  <span style=\"color: #008080; text-decoration-color: #008080; font-weight: bold\">310000</span>\n",
       "</pre>\n"
      ],
      "text/plain": [
       "counter =  \u001b[1;36m310000\u001b[0m\n"
      ]
     },
     "metadata": {},
     "output_type": "display_data"
    },
    {
     "data": {
      "text/html": [
       "<pre style=\"white-space:pre;overflow-x:auto;line-height:normal;font-family:Menlo,'DejaVu Sans Mono',consolas,'Courier New',monospace\">counter =  <span style=\"color: #008080; text-decoration-color: #008080; font-weight: bold\">320000</span>\n",
       "</pre>\n"
      ],
      "text/plain": [
       "counter =  \u001b[1;36m320000\u001b[0m\n"
      ]
     },
     "metadata": {},
     "output_type": "display_data"
    },
    {
     "data": {
      "text/html": [
       "<pre style=\"white-space:pre;overflow-x:auto;line-height:normal;font-family:Menlo,'DejaVu Sans Mono',consolas,'Courier New',monospace\">counter =  <span style=\"color: #008080; text-decoration-color: #008080; font-weight: bold\">330000</span>\n",
       "</pre>\n"
      ],
      "text/plain": [
       "counter =  \u001b[1;36m330000\u001b[0m\n"
      ]
     },
     "metadata": {},
     "output_type": "display_data"
    },
    {
     "data": {
      "text/html": [
       "<pre style=\"white-space:pre;overflow-x:auto;line-height:normal;font-family:Menlo,'DejaVu Sans Mono',consolas,'Courier New',monospace\">counter =  <span style=\"color: #008080; text-decoration-color: #008080; font-weight: bold\">340000</span>\n",
       "</pre>\n"
      ],
      "text/plain": [
       "counter =  \u001b[1;36m340000\u001b[0m\n"
      ]
     },
     "metadata": {},
     "output_type": "display_data"
    },
    {
     "data": {
      "text/html": [
       "<pre style=\"white-space:pre;overflow-x:auto;line-height:normal;font-family:Menlo,'DejaVu Sans Mono',consolas,'Courier New',monospace\">counter =  <span style=\"color: #008080; text-decoration-color: #008080; font-weight: bold\">350000</span>\n",
       "</pre>\n"
      ],
      "text/plain": [
       "counter =  \u001b[1;36m350000\u001b[0m\n"
      ]
     },
     "metadata": {},
     "output_type": "display_data"
    },
    {
     "data": {
      "text/html": [
       "<pre style=\"white-space:pre;overflow-x:auto;line-height:normal;font-family:Menlo,'DejaVu Sans Mono',consolas,'Courier New',monospace\">counter =  <span style=\"color: #008080; text-decoration-color: #008080; font-weight: bold\">360000</span>\n",
       "</pre>\n"
      ],
      "text/plain": [
       "counter =  \u001b[1;36m360000\u001b[0m\n"
      ]
     },
     "metadata": {},
     "output_type": "display_data"
    },
    {
     "data": {
      "text/html": [
       "<pre style=\"white-space:pre;overflow-x:auto;line-height:normal;font-family:Menlo,'DejaVu Sans Mono',consolas,'Courier New',monospace\">epoch =  <span style=\"color: #008080; text-decoration-color: #008080; font-weight: bold\">4</span>\n",
       "</pre>\n"
      ],
      "text/plain": [
       "epoch =  \u001b[1;36m4\u001b[0m\n"
      ]
     },
     "metadata": {},
     "output_type": "display_data"
    },
    {
     "data": {
      "text/html": [
       "<pre style=\"white-space:pre;overflow-x:auto;line-height:normal;font-family:Menlo,'DejaVu Sans Mono',consolas,'Courier New',monospace\">counter =  <span style=\"color: #008080; text-decoration-color: #008080; font-weight: bold\">370000</span>\n",
       "</pre>\n"
      ],
      "text/plain": [
       "counter =  \u001b[1;36m370000\u001b[0m\n"
      ]
     },
     "metadata": {},
     "output_type": "display_data"
    },
    {
     "data": {
      "text/html": [
       "<pre style=\"white-space:pre;overflow-x:auto;line-height:normal;font-family:Menlo,'DejaVu Sans Mono',consolas,'Courier New',monospace\">counter =  <span style=\"color: #008080; text-decoration-color: #008080; font-weight: bold\">380000</span>\n",
       "</pre>\n"
      ],
      "text/plain": [
       "counter =  \u001b[1;36m380000\u001b[0m\n"
      ]
     },
     "metadata": {},
     "output_type": "display_data"
    },
    {
     "data": {
      "text/html": [
       "<pre style=\"white-space:pre;overflow-x:auto;line-height:normal;font-family:Menlo,'DejaVu Sans Mono',consolas,'Courier New',monospace\">counter =  <span style=\"color: #008080; text-decoration-color: #008080; font-weight: bold\">390000</span>\n",
       "</pre>\n"
      ],
      "text/plain": [
       "counter =  \u001b[1;36m390000\u001b[0m\n"
      ]
     },
     "metadata": {},
     "output_type": "display_data"
    },
    {
     "data": {
      "text/html": [
       "<pre style=\"white-space:pre;overflow-x:auto;line-height:normal;font-family:Menlo,'DejaVu Sans Mono',consolas,'Courier New',monospace\">counter =  <span style=\"color: #008080; text-decoration-color: #008080; font-weight: bold\">400000</span>\n",
       "</pre>\n"
      ],
      "text/plain": [
       "counter =  \u001b[1;36m400000\u001b[0m\n"
      ]
     },
     "metadata": {},
     "output_type": "display_data"
    },
    {
     "data": {
      "text/html": [
       "<pre style=\"white-space:pre;overflow-x:auto;line-height:normal;font-family:Menlo,'DejaVu Sans Mono',consolas,'Courier New',monospace\">counter =  <span style=\"color: #008080; text-decoration-color: #008080; font-weight: bold\">410000</span>\n",
       "</pre>\n"
      ],
      "text/plain": [
       "counter =  \u001b[1;36m410000\u001b[0m\n"
      ]
     },
     "metadata": {},
     "output_type": "display_data"
    },
    {
     "data": {
      "text/html": [
       "<pre style=\"white-space:pre;overflow-x:auto;line-height:normal;font-family:Menlo,'DejaVu Sans Mono',consolas,'Courier New',monospace\">counter =  <span style=\"color: #008080; text-decoration-color: #008080; font-weight: bold\">420000</span>\n",
       "</pre>\n"
      ],
      "text/plain": [
       "counter =  \u001b[1;36m420000\u001b[0m\n"
      ]
     },
     "metadata": {},
     "output_type": "display_data"
    },
    {
     "data": {
      "text/html": [
       "<pre style=\"white-space:pre;overflow-x:auto;line-height:normal;font-family:Menlo,'DejaVu Sans Mono',consolas,'Courier New',monospace\">counter =  <span style=\"color: #008080; text-decoration-color: #008080; font-weight: bold\">430000</span>\n",
       "</pre>\n"
      ],
      "text/plain": [
       "counter =  \u001b[1;36m430000\u001b[0m\n"
      ]
     },
     "metadata": {},
     "output_type": "display_data"
    },
    {
     "data": {
      "text/html": [
       "<pre style=\"white-space:pre;overflow-x:auto;line-height:normal;font-family:Menlo,'DejaVu Sans Mono',consolas,'Courier New',monospace\">counter =  <span style=\"color: #008080; text-decoration-color: #008080; font-weight: bold\">440000</span>\n",
       "</pre>\n"
      ],
      "text/plain": [
       "counter =  \u001b[1;36m440000\u001b[0m\n"
      ]
     },
     "metadata": {},
     "output_type": "display_data"
    },
    {
     "data": {
      "text/html": [
       "<pre style=\"white-space:pre;overflow-x:auto;line-height:normal;font-family:Menlo,'DejaVu Sans Mono',consolas,'Courier New',monospace\">counter =  <span style=\"color: #008080; text-decoration-color: #008080; font-weight: bold\">450000</span>\n",
       "</pre>\n"
      ],
      "text/plain": [
       "counter =  \u001b[1;36m450000\u001b[0m\n"
      ]
     },
     "metadata": {},
     "output_type": "display_data"
    },
    {
     "data": {
      "text/html": [
       "<pre style=\"white-space:pre;overflow-x:auto;line-height:normal;font-family:Menlo,'DejaVu Sans Mono',consolas,'Courier New',monospace\">counter =  <span style=\"color: #008080; text-decoration-color: #008080; font-weight: bold\">460000</span>\n",
       "</pre>\n"
      ],
      "text/plain": [
       "counter =  \u001b[1;36m460000\u001b[0m\n"
      ]
     },
     "metadata": {},
     "output_type": "display_data"
    },
    {
     "data": {
      "text/html": [
       "<pre style=\"white-space:pre;overflow-x:auto;line-height:normal;font-family:Menlo,'DejaVu Sans Mono',consolas,'Courier New',monospace\">counter =  <span style=\"color: #008080; text-decoration-color: #008080; font-weight: bold\">470000</span>\n",
       "</pre>\n"
      ],
      "text/plain": [
       "counter =  \u001b[1;36m470000\u001b[0m\n"
      ]
     },
     "metadata": {},
     "output_type": "display_data"
    },
    {
     "data": {
      "text/html": [
       "<pre style=\"white-space:pre;overflow-x:auto;line-height:normal;font-family:Menlo,'DejaVu Sans Mono',consolas,'Courier New',monospace\">counter =  <span style=\"color: #008080; text-decoration-color: #008080; font-weight: bold\">480000</span>\n",
       "</pre>\n"
      ],
      "text/plain": [
       "counter =  \u001b[1;36m480000\u001b[0m\n"
      ]
     },
     "metadata": {},
     "output_type": "display_data"
    },
    {
     "data": {
      "text/html": [
       "<pre style=\"white-space:pre;overflow-x:auto;line-height:normal;font-family:Menlo,'DejaVu Sans Mono',consolas,'Courier New',monospace\">epoch =  <span style=\"color: #008080; text-decoration-color: #008080; font-weight: bold\">5</span>\n",
       "</pre>\n"
      ],
      "text/plain": [
       "epoch =  \u001b[1;36m5\u001b[0m\n"
      ]
     },
     "metadata": {},
     "output_type": "display_data"
    },
    {
     "data": {
      "text/html": [
       "<pre style=\"white-space:pre;overflow-x:auto;line-height:normal;font-family:Menlo,'DejaVu Sans Mono',consolas,'Courier New',monospace\">counter =  <span style=\"color: #008080; text-decoration-color: #008080; font-weight: bold\">490000</span>\n",
       "</pre>\n"
      ],
      "text/plain": [
       "counter =  \u001b[1;36m490000\u001b[0m\n"
      ]
     },
     "metadata": {},
     "output_type": "display_data"
    },
    {
     "data": {
      "text/html": [
       "<pre style=\"white-space:pre;overflow-x:auto;line-height:normal;font-family:Menlo,'DejaVu Sans Mono',consolas,'Courier New',monospace\">counter =  <span style=\"color: #008080; text-decoration-color: #008080; font-weight: bold\">500000</span>\n",
       "</pre>\n"
      ],
      "text/plain": [
       "counter =  \u001b[1;36m500000\u001b[0m\n"
      ]
     },
     "metadata": {},
     "output_type": "display_data"
    },
    {
     "data": {
      "text/html": [
       "<pre style=\"white-space:pre;overflow-x:auto;line-height:normal;font-family:Menlo,'DejaVu Sans Mono',consolas,'Courier New',monospace\">counter =  <span style=\"color: #008080; text-decoration-color: #008080; font-weight: bold\">510000</span>\n",
       "</pre>\n"
      ],
      "text/plain": [
       "counter =  \u001b[1;36m510000\u001b[0m\n"
      ]
     },
     "metadata": {},
     "output_type": "display_data"
    },
    {
     "data": {
      "text/html": [
       "<pre style=\"white-space:pre;overflow-x:auto;line-height:normal;font-family:Menlo,'DejaVu Sans Mono',consolas,'Courier New',monospace\">counter =  <span style=\"color: #008080; text-decoration-color: #008080; font-weight: bold\">520000</span>\n",
       "</pre>\n"
      ],
      "text/plain": [
       "counter =  \u001b[1;36m520000\u001b[0m\n"
      ]
     },
     "metadata": {},
     "output_type": "display_data"
    },
    {
     "data": {
      "text/html": [
       "<pre style=\"white-space:pre;overflow-x:auto;line-height:normal;font-family:Menlo,'DejaVu Sans Mono',consolas,'Courier New',monospace\">counter =  <span style=\"color: #008080; text-decoration-color: #008080; font-weight: bold\">530000</span>\n",
       "</pre>\n"
      ],
      "text/plain": [
       "counter =  \u001b[1;36m530000\u001b[0m\n"
      ]
     },
     "metadata": {},
     "output_type": "display_data"
    },
    {
     "data": {
      "text/html": [
       "<pre style=\"white-space:pre;overflow-x:auto;line-height:normal;font-family:Menlo,'DejaVu Sans Mono',consolas,'Courier New',monospace\">counter =  <span style=\"color: #008080; text-decoration-color: #008080; font-weight: bold\">540000</span>\n",
       "</pre>\n"
      ],
      "text/plain": [
       "counter =  \u001b[1;36m540000\u001b[0m\n"
      ]
     },
     "metadata": {},
     "output_type": "display_data"
    },
    {
     "data": {
      "text/html": [
       "<pre style=\"white-space:pre;overflow-x:auto;line-height:normal;font-family:Menlo,'DejaVu Sans Mono',consolas,'Courier New',monospace\">counter =  <span style=\"color: #008080; text-decoration-color: #008080; font-weight: bold\">550000</span>\n",
       "</pre>\n"
      ],
      "text/plain": [
       "counter =  \u001b[1;36m550000\u001b[0m\n"
      ]
     },
     "metadata": {},
     "output_type": "display_data"
    },
    {
     "data": {
      "text/html": [
       "<pre style=\"white-space:pre;overflow-x:auto;line-height:normal;font-family:Menlo,'DejaVu Sans Mono',consolas,'Courier New',monospace\">counter =  <span style=\"color: #008080; text-decoration-color: #008080; font-weight: bold\">560000</span>\n",
       "</pre>\n"
      ],
      "text/plain": [
       "counter =  \u001b[1;36m560000\u001b[0m\n"
      ]
     },
     "metadata": {},
     "output_type": "display_data"
    },
    {
     "data": {
      "text/html": [
       "<pre style=\"white-space:pre;overflow-x:auto;line-height:normal;font-family:Menlo,'DejaVu Sans Mono',consolas,'Courier New',monospace\">counter =  <span style=\"color: #008080; text-decoration-color: #008080; font-weight: bold\">570000</span>\n",
       "</pre>\n"
      ],
      "text/plain": [
       "counter =  \u001b[1;36m570000\u001b[0m\n"
      ]
     },
     "metadata": {},
     "output_type": "display_data"
    },
    {
     "data": {
      "text/html": [
       "<pre style=\"white-space:pre;overflow-x:auto;line-height:normal;font-family:Menlo,'DejaVu Sans Mono',consolas,'Courier New',monospace\">counter =  <span style=\"color: #008080; text-decoration-color: #008080; font-weight: bold\">580000</span>\n",
       "</pre>\n"
      ],
      "text/plain": [
       "counter =  \u001b[1;36m580000\u001b[0m\n"
      ]
     },
     "metadata": {},
     "output_type": "display_data"
    },
    {
     "data": {
      "text/html": [
       "<pre style=\"white-space:pre;overflow-x:auto;line-height:normal;font-family:Menlo,'DejaVu Sans Mono',consolas,'Courier New',monospace\">counter =  <span style=\"color: #008080; text-decoration-color: #008080; font-weight: bold\">590000</span>\n",
       "</pre>\n"
      ],
      "text/plain": [
       "counter =  \u001b[1;36m590000\u001b[0m\n"
      ]
     },
     "metadata": {},
     "output_type": "display_data"
    },
    {
     "data": {
      "text/html": [
       "<pre style=\"white-space:pre;overflow-x:auto;line-height:normal;font-family:Menlo,'DejaVu Sans Mono',consolas,'Courier New',monospace\">counter =  <span style=\"color: #008080; text-decoration-color: #008080; font-weight: bold\">600000</span>\n",
       "</pre>\n"
      ],
      "text/plain": [
       "counter =  \u001b[1;36m600000\u001b[0m\n"
      ]
     },
     "metadata": {},
     "output_type": "display_data"
    },
    {
     "data": {
      "text/html": [
       "<pre style=\"white-space:pre;overflow-x:auto;line-height:normal;font-family:Menlo,'DejaVu Sans Mono',consolas,'Courier New',monospace\">epoch =  <span style=\"color: #008080; text-decoration-color: #008080; font-weight: bold\">6</span>\n",
       "</pre>\n"
      ],
      "text/plain": [
       "epoch =  \u001b[1;36m6\u001b[0m\n"
      ]
     },
     "metadata": {},
     "output_type": "display_data"
    },
    {
     "data": {
      "text/html": [
       "<pre style=\"white-space:pre;overflow-x:auto;line-height:normal;font-family:Menlo,'DejaVu Sans Mono',consolas,'Courier New',monospace\">counter =  <span style=\"color: #008080; text-decoration-color: #008080; font-weight: bold\">610000</span>\n",
       "</pre>\n"
      ],
      "text/plain": [
       "counter =  \u001b[1;36m610000\u001b[0m\n"
      ]
     },
     "metadata": {},
     "output_type": "display_data"
    },
    {
     "data": {
      "text/html": [
       "<pre style=\"white-space:pre;overflow-x:auto;line-height:normal;font-family:Menlo,'DejaVu Sans Mono',consolas,'Courier New',monospace\">counter =  <span style=\"color: #008080; text-decoration-color: #008080; font-weight: bold\">620000</span>\n",
       "</pre>\n"
      ],
      "text/plain": [
       "counter =  \u001b[1;36m620000\u001b[0m\n"
      ]
     },
     "metadata": {},
     "output_type": "display_data"
    },
    {
     "data": {
      "text/html": [
       "<pre style=\"white-space:pre;overflow-x:auto;line-height:normal;font-family:Menlo,'DejaVu Sans Mono',consolas,'Courier New',monospace\">counter =  <span style=\"color: #008080; text-decoration-color: #008080; font-weight: bold\">630000</span>\n",
       "</pre>\n"
      ],
      "text/plain": [
       "counter =  \u001b[1;36m630000\u001b[0m\n"
      ]
     },
     "metadata": {},
     "output_type": "display_data"
    },
    {
     "data": {
      "text/html": [
       "<pre style=\"white-space:pre;overflow-x:auto;line-height:normal;font-family:Menlo,'DejaVu Sans Mono',consolas,'Courier New',monospace\">counter =  <span style=\"color: #008080; text-decoration-color: #008080; font-weight: bold\">640000</span>\n",
       "</pre>\n"
      ],
      "text/plain": [
       "counter =  \u001b[1;36m640000\u001b[0m\n"
      ]
     },
     "metadata": {},
     "output_type": "display_data"
    },
    {
     "data": {
      "text/html": [
       "<pre style=\"white-space:pre;overflow-x:auto;line-height:normal;font-family:Menlo,'DejaVu Sans Mono',consolas,'Courier New',monospace\">counter =  <span style=\"color: #008080; text-decoration-color: #008080; font-weight: bold\">650000</span>\n",
       "</pre>\n"
      ],
      "text/plain": [
       "counter =  \u001b[1;36m650000\u001b[0m\n"
      ]
     },
     "metadata": {},
     "output_type": "display_data"
    },
    {
     "data": {
      "text/html": [
       "<pre style=\"white-space:pre;overflow-x:auto;line-height:normal;font-family:Menlo,'DejaVu Sans Mono',consolas,'Courier New',monospace\">counter =  <span style=\"color: #008080; text-decoration-color: #008080; font-weight: bold\">660000</span>\n",
       "</pre>\n"
      ],
      "text/plain": [
       "counter =  \u001b[1;36m660000\u001b[0m\n"
      ]
     },
     "metadata": {},
     "output_type": "display_data"
    },
    {
     "data": {
      "text/html": [
       "<pre style=\"white-space:pre;overflow-x:auto;line-height:normal;font-family:Menlo,'DejaVu Sans Mono',consolas,'Courier New',monospace\">counter =  <span style=\"color: #008080; text-decoration-color: #008080; font-weight: bold\">670000</span>\n",
       "</pre>\n"
      ],
      "text/plain": [
       "counter =  \u001b[1;36m670000\u001b[0m\n"
      ]
     },
     "metadata": {},
     "output_type": "display_data"
    },
    {
     "data": {
      "text/html": [
       "<pre style=\"white-space:pre;overflow-x:auto;line-height:normal;font-family:Menlo,'DejaVu Sans Mono',consolas,'Courier New',monospace\">counter =  <span style=\"color: #008080; text-decoration-color: #008080; font-weight: bold\">680000</span>\n",
       "</pre>\n"
      ],
      "text/plain": [
       "counter =  \u001b[1;36m680000\u001b[0m\n"
      ]
     },
     "metadata": {},
     "output_type": "display_data"
    },
    {
     "data": {
      "text/html": [
       "<pre style=\"white-space:pre;overflow-x:auto;line-height:normal;font-family:Menlo,'DejaVu Sans Mono',consolas,'Courier New',monospace\">counter =  <span style=\"color: #008080; text-decoration-color: #008080; font-weight: bold\">690000</span>\n",
       "</pre>\n"
      ],
      "text/plain": [
       "counter =  \u001b[1;36m690000\u001b[0m\n"
      ]
     },
     "metadata": {},
     "output_type": "display_data"
    },
    {
     "data": {
      "text/html": [
       "<pre style=\"white-space:pre;overflow-x:auto;line-height:normal;font-family:Menlo,'DejaVu Sans Mono',consolas,'Courier New',monospace\">counter =  <span style=\"color: #008080; text-decoration-color: #008080; font-weight: bold\">700000</span>\n",
       "</pre>\n"
      ],
      "text/plain": [
       "counter =  \u001b[1;36m700000\u001b[0m\n"
      ]
     },
     "metadata": {},
     "output_type": "display_data"
    },
    {
     "data": {
      "text/html": [
       "<pre style=\"white-space:pre;overflow-x:auto;line-height:normal;font-family:Menlo,'DejaVu Sans Mono',consolas,'Courier New',monospace\">counter =  <span style=\"color: #008080; text-decoration-color: #008080; font-weight: bold\">710000</span>\n",
       "</pre>\n"
      ],
      "text/plain": [
       "counter =  \u001b[1;36m710000\u001b[0m\n"
      ]
     },
     "metadata": {},
     "output_type": "display_data"
    },
    {
     "data": {
      "text/html": [
       "<pre style=\"white-space:pre;overflow-x:auto;line-height:normal;font-family:Menlo,'DejaVu Sans Mono',consolas,'Courier New',monospace\">counter =  <span style=\"color: #008080; text-decoration-color: #008080; font-weight: bold\">720000</span>\n",
       "</pre>\n"
      ],
      "text/plain": [
       "counter =  \u001b[1;36m720000\u001b[0m\n"
      ]
     },
     "metadata": {},
     "output_type": "display_data"
    },
    {
     "data": {
      "text/html": [
       "<pre style=\"white-space:pre;overflow-x:auto;line-height:normal;font-family:Menlo,'DejaVu Sans Mono',consolas,'Courier New',monospace\">epoch =  <span style=\"color: #008080; text-decoration-color: #008080; font-weight: bold\">7</span>\n",
       "</pre>\n"
      ],
      "text/plain": [
       "epoch =  \u001b[1;36m7\u001b[0m\n"
      ]
     },
     "metadata": {},
     "output_type": "display_data"
    },
    {
     "data": {
      "text/html": [
       "<pre style=\"white-space:pre;overflow-x:auto;line-height:normal;font-family:Menlo,'DejaVu Sans Mono',consolas,'Courier New',monospace\">counter =  <span style=\"color: #008080; text-decoration-color: #008080; font-weight: bold\">730000</span>\n",
       "</pre>\n"
      ],
      "text/plain": [
       "counter =  \u001b[1;36m730000\u001b[0m\n"
      ]
     },
     "metadata": {},
     "output_type": "display_data"
    },
    {
     "data": {
      "text/html": [
       "<pre style=\"white-space:pre;overflow-x:auto;line-height:normal;font-family:Menlo,'DejaVu Sans Mono',consolas,'Courier New',monospace\">counter =  <span style=\"color: #008080; text-decoration-color: #008080; font-weight: bold\">740000</span>\n",
       "</pre>\n"
      ],
      "text/plain": [
       "counter =  \u001b[1;36m740000\u001b[0m\n"
      ]
     },
     "metadata": {},
     "output_type": "display_data"
    },
    {
     "data": {
      "text/html": [
       "<pre style=\"white-space:pre;overflow-x:auto;line-height:normal;font-family:Menlo,'DejaVu Sans Mono',consolas,'Courier New',monospace\">counter =  <span style=\"color: #008080; text-decoration-color: #008080; font-weight: bold\">750000</span>\n",
       "</pre>\n"
      ],
      "text/plain": [
       "counter =  \u001b[1;36m750000\u001b[0m\n"
      ]
     },
     "metadata": {},
     "output_type": "display_data"
    },
    {
     "data": {
      "text/html": [
       "<pre style=\"white-space:pre;overflow-x:auto;line-height:normal;font-family:Menlo,'DejaVu Sans Mono',consolas,'Courier New',monospace\">counter =  <span style=\"color: #008080; text-decoration-color: #008080; font-weight: bold\">760000</span>\n",
       "</pre>\n"
      ],
      "text/plain": [
       "counter =  \u001b[1;36m760000\u001b[0m\n"
      ]
     },
     "metadata": {},
     "output_type": "display_data"
    },
    {
     "data": {
      "text/html": [
       "<pre style=\"white-space:pre;overflow-x:auto;line-height:normal;font-family:Menlo,'DejaVu Sans Mono',consolas,'Courier New',monospace\">counter =  <span style=\"color: #008080; text-decoration-color: #008080; font-weight: bold\">770000</span>\n",
       "</pre>\n"
      ],
      "text/plain": [
       "counter =  \u001b[1;36m770000\u001b[0m\n"
      ]
     },
     "metadata": {},
     "output_type": "display_data"
    },
    {
     "data": {
      "text/html": [
       "<pre style=\"white-space:pre;overflow-x:auto;line-height:normal;font-family:Menlo,'DejaVu Sans Mono',consolas,'Courier New',monospace\">counter =  <span style=\"color: #008080; text-decoration-color: #008080; font-weight: bold\">780000</span>\n",
       "</pre>\n"
      ],
      "text/plain": [
       "counter =  \u001b[1;36m780000\u001b[0m\n"
      ]
     },
     "metadata": {},
     "output_type": "display_data"
    },
    {
     "data": {
      "text/html": [
       "<pre style=\"white-space:pre;overflow-x:auto;line-height:normal;font-family:Menlo,'DejaVu Sans Mono',consolas,'Courier New',monospace\">counter =  <span style=\"color: #008080; text-decoration-color: #008080; font-weight: bold\">790000</span>\n",
       "</pre>\n"
      ],
      "text/plain": [
       "counter =  \u001b[1;36m790000\u001b[0m\n"
      ]
     },
     "metadata": {},
     "output_type": "display_data"
    },
    {
     "data": {
      "text/html": [
       "<pre style=\"white-space:pre;overflow-x:auto;line-height:normal;font-family:Menlo,'DejaVu Sans Mono',consolas,'Courier New',monospace\">counter =  <span style=\"color: #008080; text-decoration-color: #008080; font-weight: bold\">800000</span>\n",
       "</pre>\n"
      ],
      "text/plain": [
       "counter =  \u001b[1;36m800000\u001b[0m\n"
      ]
     },
     "metadata": {},
     "output_type": "display_data"
    },
    {
     "data": {
      "text/html": [
       "<pre style=\"white-space:pre;overflow-x:auto;line-height:normal;font-family:Menlo,'DejaVu Sans Mono',consolas,'Courier New',monospace\">counter =  <span style=\"color: #008080; text-decoration-color: #008080; font-weight: bold\">810000</span>\n",
       "</pre>\n"
      ],
      "text/plain": [
       "counter =  \u001b[1;36m810000\u001b[0m\n"
      ]
     },
     "metadata": {},
     "output_type": "display_data"
    },
    {
     "data": {
      "text/html": [
       "<pre style=\"white-space:pre;overflow-x:auto;line-height:normal;font-family:Menlo,'DejaVu Sans Mono',consolas,'Courier New',monospace\">counter =  <span style=\"color: #008080; text-decoration-color: #008080; font-weight: bold\">820000</span>\n",
       "</pre>\n"
      ],
      "text/plain": [
       "counter =  \u001b[1;36m820000\u001b[0m\n"
      ]
     },
     "metadata": {},
     "output_type": "display_data"
    },
    {
     "data": {
      "text/html": [
       "<pre style=\"white-space:pre;overflow-x:auto;line-height:normal;font-family:Menlo,'DejaVu Sans Mono',consolas,'Courier New',monospace\">counter =  <span style=\"color: #008080; text-decoration-color: #008080; font-weight: bold\">830000</span>\n",
       "</pre>\n"
      ],
      "text/plain": [
       "counter =  \u001b[1;36m830000\u001b[0m\n"
      ]
     },
     "metadata": {},
     "output_type": "display_data"
    },
    {
     "data": {
      "text/html": [
       "<pre style=\"white-space:pre;overflow-x:auto;line-height:normal;font-family:Menlo,'DejaVu Sans Mono',consolas,'Courier New',monospace\">counter =  <span style=\"color: #008080; text-decoration-color: #008080; font-weight: bold\">840000</span>\n",
       "</pre>\n"
      ],
      "text/plain": [
       "counter =  \u001b[1;36m840000\u001b[0m\n"
      ]
     },
     "metadata": {},
     "output_type": "display_data"
    },
    {
     "data": {
      "text/html": [
       "<pre style=\"white-space:pre;overflow-x:auto;line-height:normal;font-family:Menlo,'DejaVu Sans Mono',consolas,'Courier New',monospace\">epoch =  <span style=\"color: #008080; text-decoration-color: #008080; font-weight: bold\">8</span>\n",
       "</pre>\n"
      ],
      "text/plain": [
       "epoch =  \u001b[1;36m8\u001b[0m\n"
      ]
     },
     "metadata": {},
     "output_type": "display_data"
    },
    {
     "data": {
      "text/html": [
       "<pre style=\"white-space:pre;overflow-x:auto;line-height:normal;font-family:Menlo,'DejaVu Sans Mono',consolas,'Courier New',monospace\">counter =  <span style=\"color: #008080; text-decoration-color: #008080; font-weight: bold\">850000</span>\n",
       "</pre>\n"
      ],
      "text/plain": [
       "counter =  \u001b[1;36m850000\u001b[0m\n"
      ]
     },
     "metadata": {},
     "output_type": "display_data"
    },
    {
     "data": {
      "text/html": [
       "<pre style=\"white-space:pre;overflow-x:auto;line-height:normal;font-family:Menlo,'DejaVu Sans Mono',consolas,'Courier New',monospace\">counter =  <span style=\"color: #008080; text-decoration-color: #008080; font-weight: bold\">860000</span>\n",
       "</pre>\n"
      ],
      "text/plain": [
       "counter =  \u001b[1;36m860000\u001b[0m\n"
      ]
     },
     "metadata": {},
     "output_type": "display_data"
    },
    {
     "data": {
      "text/html": [
       "<pre style=\"white-space:pre;overflow-x:auto;line-height:normal;font-family:Menlo,'DejaVu Sans Mono',consolas,'Courier New',monospace\">counter =  <span style=\"color: #008080; text-decoration-color: #008080; font-weight: bold\">870000</span>\n",
       "</pre>\n"
      ],
      "text/plain": [
       "counter =  \u001b[1;36m870000\u001b[0m\n"
      ]
     },
     "metadata": {},
     "output_type": "display_data"
    },
    {
     "data": {
      "text/html": [
       "<pre style=\"white-space:pre;overflow-x:auto;line-height:normal;font-family:Menlo,'DejaVu Sans Mono',consolas,'Courier New',monospace\">counter =  <span style=\"color: #008080; text-decoration-color: #008080; font-weight: bold\">880000</span>\n",
       "</pre>\n"
      ],
      "text/plain": [
       "counter =  \u001b[1;36m880000\u001b[0m\n"
      ]
     },
     "metadata": {},
     "output_type": "display_data"
    },
    {
     "data": {
      "text/html": [
       "<pre style=\"white-space:pre;overflow-x:auto;line-height:normal;font-family:Menlo,'DejaVu Sans Mono',consolas,'Courier New',monospace\">counter =  <span style=\"color: #008080; text-decoration-color: #008080; font-weight: bold\">890000</span>\n",
       "</pre>\n"
      ],
      "text/plain": [
       "counter =  \u001b[1;36m890000\u001b[0m\n"
      ]
     },
     "metadata": {},
     "output_type": "display_data"
    },
    {
     "data": {
      "text/html": [
       "<pre style=\"white-space:pre;overflow-x:auto;line-height:normal;font-family:Menlo,'DejaVu Sans Mono',consolas,'Courier New',monospace\">counter =  <span style=\"color: #008080; text-decoration-color: #008080; font-weight: bold\">900000</span>\n",
       "</pre>\n"
      ],
      "text/plain": [
       "counter =  \u001b[1;36m900000\u001b[0m\n"
      ]
     },
     "metadata": {},
     "output_type": "display_data"
    },
    {
     "data": {
      "text/html": [
       "<pre style=\"white-space:pre;overflow-x:auto;line-height:normal;font-family:Menlo,'DejaVu Sans Mono',consolas,'Courier New',monospace\">counter =  <span style=\"color: #008080; text-decoration-color: #008080; font-weight: bold\">910000</span>\n",
       "</pre>\n"
      ],
      "text/plain": [
       "counter =  \u001b[1;36m910000\u001b[0m\n"
      ]
     },
     "metadata": {},
     "output_type": "display_data"
    },
    {
     "data": {
      "text/html": [
       "<pre style=\"white-space:pre;overflow-x:auto;line-height:normal;font-family:Menlo,'DejaVu Sans Mono',consolas,'Courier New',monospace\">counter =  <span style=\"color: #008080; text-decoration-color: #008080; font-weight: bold\">920000</span>\n",
       "</pre>\n"
      ],
      "text/plain": [
       "counter =  \u001b[1;36m920000\u001b[0m\n"
      ]
     },
     "metadata": {},
     "output_type": "display_data"
    },
    {
     "data": {
      "text/html": [
       "<pre style=\"white-space:pre;overflow-x:auto;line-height:normal;font-family:Menlo,'DejaVu Sans Mono',consolas,'Courier New',monospace\">counter =  <span style=\"color: #008080; text-decoration-color: #008080; font-weight: bold\">930000</span>\n",
       "</pre>\n"
      ],
      "text/plain": [
       "counter =  \u001b[1;36m930000\u001b[0m\n"
      ]
     },
     "metadata": {},
     "output_type": "display_data"
    },
    {
     "data": {
      "text/html": [
       "<pre style=\"white-space:pre;overflow-x:auto;line-height:normal;font-family:Menlo,'DejaVu Sans Mono',consolas,'Courier New',monospace\">counter =  <span style=\"color: #008080; text-decoration-color: #008080; font-weight: bold\">940000</span>\n",
       "</pre>\n"
      ],
      "text/plain": [
       "counter =  \u001b[1;36m940000\u001b[0m\n"
      ]
     },
     "metadata": {},
     "output_type": "display_data"
    },
    {
     "data": {
      "text/html": [
       "<pre style=\"white-space:pre;overflow-x:auto;line-height:normal;font-family:Menlo,'DejaVu Sans Mono',consolas,'Courier New',monospace\">counter =  <span style=\"color: #008080; text-decoration-color: #008080; font-weight: bold\">950000</span>\n",
       "</pre>\n"
      ],
      "text/plain": [
       "counter =  \u001b[1;36m950000\u001b[0m\n"
      ]
     },
     "metadata": {},
     "output_type": "display_data"
    },
    {
     "data": {
      "text/html": [
       "<pre style=\"white-space:pre;overflow-x:auto;line-height:normal;font-family:Menlo,'DejaVu Sans Mono',consolas,'Courier New',monospace\">counter =  <span style=\"color: #008080; text-decoration-color: #008080; font-weight: bold\">960000</span>\n",
       "</pre>\n"
      ],
      "text/plain": [
       "counter =  \u001b[1;36m960000\u001b[0m\n"
      ]
     },
     "metadata": {},
     "output_type": "display_data"
    },
    {
     "data": {
      "text/html": [
       "<pre style=\"white-space:pre;overflow-x:auto;line-height:normal;font-family:Menlo,'DejaVu Sans Mono',consolas,'Courier New',monospace\">epoch =  <span style=\"color: #008080; text-decoration-color: #008080; font-weight: bold\">9</span>\n",
       "</pre>\n"
      ],
      "text/plain": [
       "epoch =  \u001b[1;36m9\u001b[0m\n"
      ]
     },
     "metadata": {},
     "output_type": "display_data"
    },
    {
     "data": {
      "text/html": [
       "<pre style=\"white-space:pre;overflow-x:auto;line-height:normal;font-family:Menlo,'DejaVu Sans Mono',consolas,'Courier New',monospace\">counter =  <span style=\"color: #008080; text-decoration-color: #008080; font-weight: bold\">970000</span>\n",
       "</pre>\n"
      ],
      "text/plain": [
       "counter =  \u001b[1;36m970000\u001b[0m\n"
      ]
     },
     "metadata": {},
     "output_type": "display_data"
    },
    {
     "data": {
      "text/html": [
       "<pre style=\"white-space:pre;overflow-x:auto;line-height:normal;font-family:Menlo,'DejaVu Sans Mono',consolas,'Courier New',monospace\">counter =  <span style=\"color: #008080; text-decoration-color: #008080; font-weight: bold\">980000</span>\n",
       "</pre>\n"
      ],
      "text/plain": [
       "counter =  \u001b[1;36m980000\u001b[0m\n"
      ]
     },
     "metadata": {},
     "output_type": "display_data"
    },
    {
     "data": {
      "text/html": [
       "<pre style=\"white-space:pre;overflow-x:auto;line-height:normal;font-family:Menlo,'DejaVu Sans Mono',consolas,'Courier New',monospace\">counter =  <span style=\"color: #008080; text-decoration-color: #008080; font-weight: bold\">990000</span>\n",
       "</pre>\n"
      ],
      "text/plain": [
       "counter =  \u001b[1;36m990000\u001b[0m\n"
      ]
     },
     "metadata": {},
     "output_type": "display_data"
    },
    {
     "data": {
      "text/html": [
       "<pre style=\"white-space:pre;overflow-x:auto;line-height:normal;font-family:Menlo,'DejaVu Sans Mono',consolas,'Courier New',monospace\">counter =  <span style=\"color: #008080; text-decoration-color: #008080; font-weight: bold\">1000000</span>\n",
       "</pre>\n"
      ],
      "text/plain": [
       "counter =  \u001b[1;36m1000000\u001b[0m\n"
      ]
     },
     "metadata": {},
     "output_type": "display_data"
    },
    {
     "data": {
      "text/html": [
       "<pre style=\"white-space:pre;overflow-x:auto;line-height:normal;font-family:Menlo,'DejaVu Sans Mono',consolas,'Courier New',monospace\">counter =  <span style=\"color: #008080; text-decoration-color: #008080; font-weight: bold\">1010000</span>\n",
       "</pre>\n"
      ],
      "text/plain": [
       "counter =  \u001b[1;36m1010000\u001b[0m\n"
      ]
     },
     "metadata": {},
     "output_type": "display_data"
    },
    {
     "data": {
      "text/html": [
       "<pre style=\"white-space:pre;overflow-x:auto;line-height:normal;font-family:Menlo,'DejaVu Sans Mono',consolas,'Courier New',monospace\">counter =  <span style=\"color: #008080; text-decoration-color: #008080; font-weight: bold\">1020000</span>\n",
       "</pre>\n"
      ],
      "text/plain": [
       "counter =  \u001b[1;36m1020000\u001b[0m\n"
      ]
     },
     "metadata": {},
     "output_type": "display_data"
    },
    {
     "data": {
      "text/html": [
       "<pre style=\"white-space:pre;overflow-x:auto;line-height:normal;font-family:Menlo,'DejaVu Sans Mono',consolas,'Courier New',monospace\">counter =  <span style=\"color: #008080; text-decoration-color: #008080; font-weight: bold\">1030000</span>\n",
       "</pre>\n"
      ],
      "text/plain": [
       "counter =  \u001b[1;36m1030000\u001b[0m\n"
      ]
     },
     "metadata": {},
     "output_type": "display_data"
    },
    {
     "data": {
      "text/html": [
       "<pre style=\"white-space:pre;overflow-x:auto;line-height:normal;font-family:Menlo,'DejaVu Sans Mono',consolas,'Courier New',monospace\">counter =  <span style=\"color: #008080; text-decoration-color: #008080; font-weight: bold\">1040000</span>\n",
       "</pre>\n"
      ],
      "text/plain": [
       "counter =  \u001b[1;36m1040000\u001b[0m\n"
      ]
     },
     "metadata": {},
     "output_type": "display_data"
    },
    {
     "data": {
      "text/html": [
       "<pre style=\"white-space:pre;overflow-x:auto;line-height:normal;font-family:Menlo,'DejaVu Sans Mono',consolas,'Courier New',monospace\">counter =  <span style=\"color: #008080; text-decoration-color: #008080; font-weight: bold\">1050000</span>\n",
       "</pre>\n"
      ],
      "text/plain": [
       "counter =  \u001b[1;36m1050000\u001b[0m\n"
      ]
     },
     "metadata": {},
     "output_type": "display_data"
    },
    {
     "data": {
      "text/html": [
       "<pre style=\"white-space:pre;overflow-x:auto;line-height:normal;font-family:Menlo,'DejaVu Sans Mono',consolas,'Courier New',monospace\">counter =  <span style=\"color: #008080; text-decoration-color: #008080; font-weight: bold\">1060000</span>\n",
       "</pre>\n"
      ],
      "text/plain": [
       "counter =  \u001b[1;36m1060000\u001b[0m\n"
      ]
     },
     "metadata": {},
     "output_type": "display_data"
    },
    {
     "data": {
      "text/html": [
       "<pre style=\"white-space:pre;overflow-x:auto;line-height:normal;font-family:Menlo,'DejaVu Sans Mono',consolas,'Courier New',monospace\">counter =  <span style=\"color: #008080; text-decoration-color: #008080; font-weight: bold\">1070000</span>\n",
       "</pre>\n"
      ],
      "text/plain": [
       "counter =  \u001b[1;36m1070000\u001b[0m\n"
      ]
     },
     "metadata": {},
     "output_type": "display_data"
    },
    {
     "data": {
      "text/html": [
       "<pre style=\"white-space:pre;overflow-x:auto;line-height:normal;font-family:Menlo,'DejaVu Sans Mono',consolas,'Courier New',monospace\">counter =  <span style=\"color: #008080; text-decoration-color: #008080; font-weight: bold\">1080000</span>\n",
       "</pre>\n"
      ],
      "text/plain": [
       "counter =  \u001b[1;36m1080000\u001b[0m\n"
      ]
     },
     "metadata": {},
     "output_type": "display_data"
    },
    {
     "data": {
      "text/html": [
       "<pre style=\"white-space:pre;overflow-x:auto;line-height:normal;font-family:Menlo,'DejaVu Sans Mono',consolas,'Courier New',monospace\">epoch =  <span style=\"color: #008080; text-decoration-color: #008080; font-weight: bold\">10</span>\n",
       "</pre>\n"
      ],
      "text/plain": [
       "epoch =  \u001b[1;36m10\u001b[0m\n"
      ]
     },
     "metadata": {},
     "output_type": "display_data"
    },
    {
     "data": {
      "text/html": [
       "<pre style=\"white-space:pre;overflow-x:auto;line-height:normal;font-family:Menlo,'DejaVu Sans Mono',consolas,'Courier New',monospace\">counter =  <span style=\"color: #008080; text-decoration-color: #008080; font-weight: bold\">1090000</span>\n",
       "</pre>\n"
      ],
      "text/plain": [
       "counter =  \u001b[1;36m1090000\u001b[0m\n"
      ]
     },
     "metadata": {},
     "output_type": "display_data"
    },
    {
     "data": {
      "text/html": [
       "<pre style=\"white-space:pre;overflow-x:auto;line-height:normal;font-family:Menlo,'DejaVu Sans Mono',consolas,'Courier New',monospace\">counter =  <span style=\"color: #008080; text-decoration-color: #008080; font-weight: bold\">1100000</span>\n",
       "</pre>\n"
      ],
      "text/plain": [
       "counter =  \u001b[1;36m1100000\u001b[0m\n"
      ]
     },
     "metadata": {},
     "output_type": "display_data"
    },
    {
     "data": {
      "text/html": [
       "<pre style=\"white-space:pre;overflow-x:auto;line-height:normal;font-family:Menlo,'DejaVu Sans Mono',consolas,'Courier New',monospace\">counter =  <span style=\"color: #008080; text-decoration-color: #008080; font-weight: bold\">1110000</span>\n",
       "</pre>\n"
      ],
      "text/plain": [
       "counter =  \u001b[1;36m1110000\u001b[0m\n"
      ]
     },
     "metadata": {},
     "output_type": "display_data"
    },
    {
     "data": {
      "text/html": [
       "<pre style=\"white-space:pre;overflow-x:auto;line-height:normal;font-family:Menlo,'DejaVu Sans Mono',consolas,'Courier New',monospace\">counter =  <span style=\"color: #008080; text-decoration-color: #008080; font-weight: bold\">1120000</span>\n",
       "</pre>\n"
      ],
      "text/plain": [
       "counter =  \u001b[1;36m1120000\u001b[0m\n"
      ]
     },
     "metadata": {},
     "output_type": "display_data"
    },
    {
     "data": {
      "text/html": [
       "<pre style=\"white-space:pre;overflow-x:auto;line-height:normal;font-family:Menlo,'DejaVu Sans Mono',consolas,'Courier New',monospace\">counter =  <span style=\"color: #008080; text-decoration-color: #008080; font-weight: bold\">1130000</span>\n",
       "</pre>\n"
      ],
      "text/plain": [
       "counter =  \u001b[1;36m1130000\u001b[0m\n"
      ]
     },
     "metadata": {},
     "output_type": "display_data"
    },
    {
     "data": {
      "text/html": [
       "<pre style=\"white-space:pre;overflow-x:auto;line-height:normal;font-family:Menlo,'DejaVu Sans Mono',consolas,'Courier New',monospace\">counter =  <span style=\"color: #008080; text-decoration-color: #008080; font-weight: bold\">1140000</span>\n",
       "</pre>\n"
      ],
      "text/plain": [
       "counter =  \u001b[1;36m1140000\u001b[0m\n"
      ]
     },
     "metadata": {},
     "output_type": "display_data"
    },
    {
     "data": {
      "text/html": [
       "<pre style=\"white-space:pre;overflow-x:auto;line-height:normal;font-family:Menlo,'DejaVu Sans Mono',consolas,'Courier New',monospace\">counter =  <span style=\"color: #008080; text-decoration-color: #008080; font-weight: bold\">1150000</span>\n",
       "</pre>\n"
      ],
      "text/plain": [
       "counter =  \u001b[1;36m1150000\u001b[0m\n"
      ]
     },
     "metadata": {},
     "output_type": "display_data"
    },
    {
     "data": {
      "text/html": [
       "<pre style=\"white-space:pre;overflow-x:auto;line-height:normal;font-family:Menlo,'DejaVu Sans Mono',consolas,'Courier New',monospace\">counter =  <span style=\"color: #008080; text-decoration-color: #008080; font-weight: bold\">1160000</span>\n",
       "</pre>\n"
      ],
      "text/plain": [
       "counter =  \u001b[1;36m1160000\u001b[0m\n"
      ]
     },
     "metadata": {},
     "output_type": "display_data"
    },
    {
     "data": {
      "text/html": [
       "<pre style=\"white-space:pre;overflow-x:auto;line-height:normal;font-family:Menlo,'DejaVu Sans Mono',consolas,'Courier New',monospace\">counter =  <span style=\"color: #008080; text-decoration-color: #008080; font-weight: bold\">1170000</span>\n",
       "</pre>\n"
      ],
      "text/plain": [
       "counter =  \u001b[1;36m1170000\u001b[0m\n"
      ]
     },
     "metadata": {},
     "output_type": "display_data"
    },
    {
     "data": {
      "text/html": [
       "<pre style=\"white-space:pre;overflow-x:auto;line-height:normal;font-family:Menlo,'DejaVu Sans Mono',consolas,'Courier New',monospace\">counter =  <span style=\"color: #008080; text-decoration-color: #008080; font-weight: bold\">1180000</span>\n",
       "</pre>\n"
      ],
      "text/plain": [
       "counter =  \u001b[1;36m1180000\u001b[0m\n"
      ]
     },
     "metadata": {},
     "output_type": "display_data"
    },
    {
     "data": {
      "text/html": [
       "<pre style=\"white-space:pre;overflow-x:auto;line-height:normal;font-family:Menlo,'DejaVu Sans Mono',consolas,'Courier New',monospace\">counter =  <span style=\"color: #008080; text-decoration-color: #008080; font-weight: bold\">1190000</span>\n",
       "</pre>\n"
      ],
      "text/plain": [
       "counter =  \u001b[1;36m1190000\u001b[0m\n"
      ]
     },
     "metadata": {},
     "output_type": "display_data"
    },
    {
     "data": {
      "text/html": [
       "<pre style=\"white-space:pre;overflow-x:auto;line-height:normal;font-family:Menlo,'DejaVu Sans Mono',consolas,'Courier New',monospace\">counter =  <span style=\"color: #008080; text-decoration-color: #008080; font-weight: bold\">1200000</span>\n",
       "</pre>\n"
      ],
      "text/plain": [
       "counter =  \u001b[1;36m1200000\u001b[0m\n"
      ]
     },
     "metadata": {},
     "output_type": "display_data"
    },
    {
     "data": {
      "text/html": [
       "<pre style=\"white-space:pre;overflow-x:auto;line-height:normal;font-family:Menlo,'DejaVu Sans Mono',consolas,'Courier New',monospace\">epoch =  <span style=\"color: #008080; text-decoration-color: #008080; font-weight: bold\">11</span>\n",
       "</pre>\n"
      ],
      "text/plain": [
       "epoch =  \u001b[1;36m11\u001b[0m\n"
      ]
     },
     "metadata": {},
     "output_type": "display_data"
    },
    {
     "data": {
      "text/html": [
       "<pre style=\"white-space:pre;overflow-x:auto;line-height:normal;font-family:Menlo,'DejaVu Sans Mono',consolas,'Courier New',monospace\">counter =  <span style=\"color: #008080; text-decoration-color: #008080; font-weight: bold\">1210000</span>\n",
       "</pre>\n"
      ],
      "text/plain": [
       "counter =  \u001b[1;36m1210000\u001b[0m\n"
      ]
     },
     "metadata": {},
     "output_type": "display_data"
    },
    {
     "data": {
      "text/html": [
       "<pre style=\"white-space:pre;overflow-x:auto;line-height:normal;font-family:Menlo,'DejaVu Sans Mono',consolas,'Courier New',monospace\">counter =  <span style=\"color: #008080; text-decoration-color: #008080; font-weight: bold\">1220000</span>\n",
       "</pre>\n"
      ],
      "text/plain": [
       "counter =  \u001b[1;36m1220000\u001b[0m\n"
      ]
     },
     "metadata": {},
     "output_type": "display_data"
    },
    {
     "data": {
      "text/html": [
       "<pre style=\"white-space:pre;overflow-x:auto;line-height:normal;font-family:Menlo,'DejaVu Sans Mono',consolas,'Courier New',monospace\">counter =  <span style=\"color: #008080; text-decoration-color: #008080; font-weight: bold\">1230000</span>\n",
       "</pre>\n"
      ],
      "text/plain": [
       "counter =  \u001b[1;36m1230000\u001b[0m\n"
      ]
     },
     "metadata": {},
     "output_type": "display_data"
    },
    {
     "data": {
      "text/html": [
       "<pre style=\"white-space:pre;overflow-x:auto;line-height:normal;font-family:Menlo,'DejaVu Sans Mono',consolas,'Courier New',monospace\">counter =  <span style=\"color: #008080; text-decoration-color: #008080; font-weight: bold\">1240000</span>\n",
       "</pre>\n"
      ],
      "text/plain": [
       "counter =  \u001b[1;36m1240000\u001b[0m\n"
      ]
     },
     "metadata": {},
     "output_type": "display_data"
    },
    {
     "data": {
      "text/html": [
       "<pre style=\"white-space:pre;overflow-x:auto;line-height:normal;font-family:Menlo,'DejaVu Sans Mono',consolas,'Courier New',monospace\">counter =  <span style=\"color: #008080; text-decoration-color: #008080; font-weight: bold\">1250000</span>\n",
       "</pre>\n"
      ],
      "text/plain": [
       "counter =  \u001b[1;36m1250000\u001b[0m\n"
      ]
     },
     "metadata": {},
     "output_type": "display_data"
    },
    {
     "data": {
      "text/html": [
       "<pre style=\"white-space:pre;overflow-x:auto;line-height:normal;font-family:Menlo,'DejaVu Sans Mono',consolas,'Courier New',monospace\">counter =  <span style=\"color: #008080; text-decoration-color: #008080; font-weight: bold\">1260000</span>\n",
       "</pre>\n"
      ],
      "text/plain": [
       "counter =  \u001b[1;36m1260000\u001b[0m\n"
      ]
     },
     "metadata": {},
     "output_type": "display_data"
    },
    {
     "data": {
      "text/html": [
       "<pre style=\"white-space:pre;overflow-x:auto;line-height:normal;font-family:Menlo,'DejaVu Sans Mono',consolas,'Courier New',monospace\">counter =  <span style=\"color: #008080; text-decoration-color: #008080; font-weight: bold\">1270000</span>\n",
       "</pre>\n"
      ],
      "text/plain": [
       "counter =  \u001b[1;36m1270000\u001b[0m\n"
      ]
     },
     "metadata": {},
     "output_type": "display_data"
    },
    {
     "data": {
      "text/html": [
       "<pre style=\"white-space:pre;overflow-x:auto;line-height:normal;font-family:Menlo,'DejaVu Sans Mono',consolas,'Courier New',monospace\">counter =  <span style=\"color: #008080; text-decoration-color: #008080; font-weight: bold\">1280000</span>\n",
       "</pre>\n"
      ],
      "text/plain": [
       "counter =  \u001b[1;36m1280000\u001b[0m\n"
      ]
     },
     "metadata": {},
     "output_type": "display_data"
    },
    {
     "data": {
      "text/html": [
       "<pre style=\"white-space:pre;overflow-x:auto;line-height:normal;font-family:Menlo,'DejaVu Sans Mono',consolas,'Courier New',monospace\">counter =  <span style=\"color: #008080; text-decoration-color: #008080; font-weight: bold\">1290000</span>\n",
       "</pre>\n"
      ],
      "text/plain": [
       "counter =  \u001b[1;36m1290000\u001b[0m\n"
      ]
     },
     "metadata": {},
     "output_type": "display_data"
    },
    {
     "data": {
      "text/html": [
       "<pre style=\"white-space:pre;overflow-x:auto;line-height:normal;font-family:Menlo,'DejaVu Sans Mono',consolas,'Courier New',monospace\">counter =  <span style=\"color: #008080; text-decoration-color: #008080; font-weight: bold\">1300000</span>\n",
       "</pre>\n"
      ],
      "text/plain": [
       "counter =  \u001b[1;36m1300000\u001b[0m\n"
      ]
     },
     "metadata": {},
     "output_type": "display_data"
    },
    {
     "data": {
      "text/html": [
       "<pre style=\"white-space:pre;overflow-x:auto;line-height:normal;font-family:Menlo,'DejaVu Sans Mono',consolas,'Courier New',monospace\">counter =  <span style=\"color: #008080; text-decoration-color: #008080; font-weight: bold\">1310000</span>\n",
       "</pre>\n"
      ],
      "text/plain": [
       "counter =  \u001b[1;36m1310000\u001b[0m\n"
      ]
     },
     "metadata": {},
     "output_type": "display_data"
    },
    {
     "data": {
      "text/html": [
       "<pre style=\"white-space:pre;overflow-x:auto;line-height:normal;font-family:Menlo,'DejaVu Sans Mono',consolas,'Courier New',monospace\">counter =  <span style=\"color: #008080; text-decoration-color: #008080; font-weight: bold\">1320000</span>\n",
       "</pre>\n"
      ],
      "text/plain": [
       "counter =  \u001b[1;36m1320000\u001b[0m\n"
      ]
     },
     "metadata": {},
     "output_type": "display_data"
    },
    {
     "data": {
      "text/html": [
       "<pre style=\"white-space:pre;overflow-x:auto;line-height:normal;font-family:Menlo,'DejaVu Sans Mono',consolas,'Courier New',monospace\">epoch =  <span style=\"color: #008080; text-decoration-color: #008080; font-weight: bold\">12</span>\n",
       "</pre>\n"
      ],
      "text/plain": [
       "epoch =  \u001b[1;36m12\u001b[0m\n"
      ]
     },
     "metadata": {},
     "output_type": "display_data"
    },
    {
     "data": {
      "text/html": [
       "<pre style=\"white-space:pre;overflow-x:auto;line-height:normal;font-family:Menlo,'DejaVu Sans Mono',consolas,'Courier New',monospace\">counter =  <span style=\"color: #008080; text-decoration-color: #008080; font-weight: bold\">1330000</span>\n",
       "</pre>\n"
      ],
      "text/plain": [
       "counter =  \u001b[1;36m1330000\u001b[0m\n"
      ]
     },
     "metadata": {},
     "output_type": "display_data"
    },
    {
     "data": {
      "text/html": [
       "<pre style=\"white-space:pre;overflow-x:auto;line-height:normal;font-family:Menlo,'DejaVu Sans Mono',consolas,'Courier New',monospace\">counter =  <span style=\"color: #008080; text-decoration-color: #008080; font-weight: bold\">1340000</span>\n",
       "</pre>\n"
      ],
      "text/plain": [
       "counter =  \u001b[1;36m1340000\u001b[0m\n"
      ]
     },
     "metadata": {},
     "output_type": "display_data"
    },
    {
     "data": {
      "text/html": [
       "<pre style=\"white-space:pre;overflow-x:auto;line-height:normal;font-family:Menlo,'DejaVu Sans Mono',consolas,'Courier New',monospace\">counter =  <span style=\"color: #008080; text-decoration-color: #008080; font-weight: bold\">1350000</span>\n",
       "</pre>\n"
      ],
      "text/plain": [
       "counter =  \u001b[1;36m1350000\u001b[0m\n"
      ]
     },
     "metadata": {},
     "output_type": "display_data"
    },
    {
     "data": {
      "text/html": [
       "<pre style=\"white-space:pre;overflow-x:auto;line-height:normal;font-family:Menlo,'DejaVu Sans Mono',consolas,'Courier New',monospace\">counter =  <span style=\"color: #008080; text-decoration-color: #008080; font-weight: bold\">1360000</span>\n",
       "</pre>\n"
      ],
      "text/plain": [
       "counter =  \u001b[1;36m1360000\u001b[0m\n"
      ]
     },
     "metadata": {},
     "output_type": "display_data"
    },
    {
     "data": {
      "text/html": [
       "<pre style=\"white-space:pre;overflow-x:auto;line-height:normal;font-family:Menlo,'DejaVu Sans Mono',consolas,'Courier New',monospace\">counter =  <span style=\"color: #008080; text-decoration-color: #008080; font-weight: bold\">1370000</span>\n",
       "</pre>\n"
      ],
      "text/plain": [
       "counter =  \u001b[1;36m1370000\u001b[0m\n"
      ]
     },
     "metadata": {},
     "output_type": "display_data"
    },
    {
     "data": {
      "text/html": [
       "<pre style=\"white-space:pre;overflow-x:auto;line-height:normal;font-family:Menlo,'DejaVu Sans Mono',consolas,'Courier New',monospace\">counter =  <span style=\"color: #008080; text-decoration-color: #008080; font-weight: bold\">1380000</span>\n",
       "</pre>\n"
      ],
      "text/plain": [
       "counter =  \u001b[1;36m1380000\u001b[0m\n"
      ]
     },
     "metadata": {},
     "output_type": "display_data"
    },
    {
     "data": {
      "text/html": [
       "<pre style=\"white-space:pre;overflow-x:auto;line-height:normal;font-family:Menlo,'DejaVu Sans Mono',consolas,'Courier New',monospace\">counter =  <span style=\"color: #008080; text-decoration-color: #008080; font-weight: bold\">1390000</span>\n",
       "</pre>\n"
      ],
      "text/plain": [
       "counter =  \u001b[1;36m1390000\u001b[0m\n"
      ]
     },
     "metadata": {},
     "output_type": "display_data"
    },
    {
     "data": {
      "text/html": [
       "<pre style=\"white-space:pre;overflow-x:auto;line-height:normal;font-family:Menlo,'DejaVu Sans Mono',consolas,'Courier New',monospace\">counter =  <span style=\"color: #008080; text-decoration-color: #008080; font-weight: bold\">1400000</span>\n",
       "</pre>\n"
      ],
      "text/plain": [
       "counter =  \u001b[1;36m1400000\u001b[0m\n"
      ]
     },
     "metadata": {},
     "output_type": "display_data"
    },
    {
     "data": {
      "text/html": [
       "<pre style=\"white-space:pre;overflow-x:auto;line-height:normal;font-family:Menlo,'DejaVu Sans Mono',consolas,'Courier New',monospace\">counter =  <span style=\"color: #008080; text-decoration-color: #008080; font-weight: bold\">1410000</span>\n",
       "</pre>\n"
      ],
      "text/plain": [
       "counter =  \u001b[1;36m1410000\u001b[0m\n"
      ]
     },
     "metadata": {},
     "output_type": "display_data"
    },
    {
     "data": {
      "text/html": [
       "<pre style=\"white-space:pre;overflow-x:auto;line-height:normal;font-family:Menlo,'DejaVu Sans Mono',consolas,'Courier New',monospace\">counter =  <span style=\"color: #008080; text-decoration-color: #008080; font-weight: bold\">1420000</span>\n",
       "</pre>\n"
      ],
      "text/plain": [
       "counter =  \u001b[1;36m1420000\u001b[0m\n"
      ]
     },
     "metadata": {},
     "output_type": "display_data"
    },
    {
     "data": {
      "text/html": [
       "<pre style=\"white-space:pre;overflow-x:auto;line-height:normal;font-family:Menlo,'DejaVu Sans Mono',consolas,'Courier New',monospace\">counter =  <span style=\"color: #008080; text-decoration-color: #008080; font-weight: bold\">1430000</span>\n",
       "</pre>\n"
      ],
      "text/plain": [
       "counter =  \u001b[1;36m1430000\u001b[0m\n"
      ]
     },
     "metadata": {},
     "output_type": "display_data"
    },
    {
     "data": {
      "text/html": [
       "<pre style=\"white-space:pre;overflow-x:auto;line-height:normal;font-family:Menlo,'DejaVu Sans Mono',consolas,'Courier New',monospace\">counter =  <span style=\"color: #008080; text-decoration-color: #008080; font-weight: bold\">1440000</span>\n",
       "</pre>\n"
      ],
      "text/plain": [
       "counter =  \u001b[1;36m1440000\u001b[0m\n"
      ]
     },
     "metadata": {},
     "output_type": "display_data"
    },
    {
     "name": "stdout",
     "output_type": "stream",
     "text": [
      "CPU times: user 1d 19h 4min 34s, sys: 1d 6h 51min 51s, total: 3d 1h 56min 25s\n",
      "Wall time: 3h 27min 55s\n"
     ]
    }
   ],
   "source": [
    "%%time \n",
    "\n",
    "# train Discriminator and Generator\n",
    "\n",
    "epochs = 12\n",
    "\n",
    "for epoch in range(epochs):\n",
    "    print (\"epoch = \", epoch + 1)\n",
    "\n",
    "    # train Discriminator and Generator\n",
    "    for label, image_data_tensor, label_tensor in mnist_dataset:\n",
    "        # train discriminator on true\n",
    "        D.train(image_data_tensor, label_tensor, torch.FloatTensor([1.0]))\n",
    "\n",
    "        # random 1-hot label for generator\n",
    "        random_label = generate_random_one_hot(10)\n",
    "\n",
    "        # train discriminator on false\n",
    "        # use detach() so gradients in G are not calculated\n",
    "        D.train(G.forward(generate_random_seed(100), random_label).detach(), random_label, torch.FloatTensor([0.0]))\n",
    "\n",
    "        # different random 1-hot label for generator\n",
    "        random_label = generate_random_one_hot(10)\n",
    "\n",
    "        # train generator\n",
    "        G.train(D, generate_random_seed(100), random_label, torch.FloatTensor([1.0]))"
   ]
  },
  {
   "cell_type": "code",
   "execution_count": 15,
   "metadata": {
    "colab": {
     "base_uri": "https://localhost:8080/",
     "height": 483
    },
    "colab_type": "code",
    "id": "WfGwR21QxYtV",
    "outputId": "9aae03cb-3852-4334-d5fd-abff33b90f6d"
   },
   "outputs": [
    {
     "data": {
      "text/html": [
       "<pre style=\"white-space:pre;overflow-x:auto;line-height:normal;font-family:Menlo,'DejaVu Sans Mono',consolas,'Courier New',monospace\"><span style=\"font-weight: bold\">&lt;</span><span style=\"color: #ff00ff; text-decoration-color: #ff00ff; font-weight: bold\">Figure</span><span style=\"color: #000000; text-decoration-color: #000000\"> size 432x288 with </span><span style=\"color: #008080; text-decoration-color: #008080; font-weight: bold\">1</span><span style=\"color: #000000; text-decoration-color: #000000\"> Axes</span><span style=\"font-weight: bold\">&gt;</span>\n",
       "</pre>\n"
      ],
      "text/plain": [
       "\u001b[1m<\u001b[0m\u001b[1;95mFigure\u001b[0m\u001b[39m size 432x288 with \u001b[0m\u001b[1;36m1\u001b[0m\u001b[39m Axes\u001b[0m\u001b[1m>\u001b[0m\n"
      ]
     },
     "metadata": {},
     "output_type": "display_data"
    },
    {
     "data": {
      "image/png": "[encoded data removed]"
     },
     "metadata": {
      "needs_background": "light"
     },
     "output_type": "display_data"
    }
   ],
   "source": [
    "# plot discriminator error\n",
    "\n",
    "D.plot_progress()"
   ]
  },
  {
   "cell_type": "code",
   "execution_count": 16,
   "metadata": {
    "colab": {
     "base_uri": "https://localhost:8080/",
     "height": 483
    },
    "colab_type": "code",
    "id": "SIx0tJBixbGM",
    "outputId": "b18af6ad-df43-4761-ed4d-729da65933c2"
   },
   "outputs": [
    {
     "data": {
      "text/html": [
       "<pre style=\"white-space:pre;overflow-x:auto;line-height:normal;font-family:Menlo,'DejaVu Sans Mono',consolas,'Courier New',monospace\"><span style=\"font-weight: bold\">&lt;</span><span style=\"color: #ff00ff; text-decoration-color: #ff00ff; font-weight: bold\">Figure</span><span style=\"color: #000000; text-decoration-color: #000000\"> size 432x288 with </span><span style=\"color: #008080; text-decoration-color: #008080; font-weight: bold\">1</span><span style=\"color: #000000; text-decoration-color: #000000\"> Axes</span><span style=\"font-weight: bold\">&gt;</span>\n",
       "</pre>\n"
      ],
      "text/plain": [
       "\u001b[1m<\u001b[0m\u001b[1;95mFigure\u001b[0m\u001b[39m size 432x288 with \u001b[0m\u001b[1;36m1\u001b[0m\u001b[39m Axes\u001b[0m\u001b[1m>\u001b[0m\n"
      ]
     },
     "metadata": {},
     "output_type": "display_data"
    },
    {
     "data": {
      "image/png": "[encoded data removed]"
     },
     "metadata": {
      "needs_background": "light"
     },
     "output_type": "display_data"
    }
   ],
   "source": [
    "# plot generator error\n",
    "\n",
    "G.plot_progress()"
   ]
  },
  {
   "cell_type": "markdown",
   "metadata": {
    "colab_type": "text",
    "id": "vddYtD84xkmI"
   },
   "source": [
    "## Run Generator"
   ]
  },
  {
   "cell_type": "code",
   "execution_count": 17,
   "metadata": {
    "colab": {
     "base_uri": "https://localhost:8080/",
     "height": 483
    },
    "colab_type": "code",
    "id": "mePLPy3Yxj9A",
    "outputId": "af5de962-d032-476d-8d50-8de3f14b22c5"
   },
   "outputs": [
    {
     "data": {
      "text/html": [
       "<pre style=\"white-space:pre;overflow-x:auto;line-height:normal;font-family:Menlo,'DejaVu Sans Mono',consolas,'Courier New',monospace\"><span style=\"font-weight: bold\">&lt;</span><span style=\"color: #ff00ff; text-decoration-color: #ff00ff; font-weight: bold\">Figure</span><span style=\"color: #000000; text-decoration-color: #000000\"> size 1152x576 with </span><span style=\"color: #008080; text-decoration-color: #008080; font-weight: bold\">6</span><span style=\"color: #000000; text-decoration-color: #000000\"> Axes</span><span style=\"font-weight: bold\">&gt;</span>\n",
       "</pre>\n"
      ],
      "text/plain": [
       "\u001b[1m<\u001b[0m\u001b[1;95mFigure\u001b[0m\u001b[39m size 1152x576 with \u001b[0m\u001b[1;36m6\u001b[0m\u001b[39m Axes\u001b[0m\u001b[1m>\u001b[0m\n"
      ]
     },
     "metadata": {},
     "output_type": "display_data"
    },
    {
     "data": {
      "image/png": "[encoded data removed]"
     },
     "metadata": {
      "needs_background": "light"
     },
     "output_type": "display_data"
    }
   ],
   "source": [
    "# plot several outputs from the trained generator\n",
    "\n",
    "G.plot_images(9)"
   ]
  },
  {
   "cell_type": "code",
   "execution_count": 18,
   "metadata": {
    "colab": {
     "base_uri": "https://localhost:8080/",
     "height": 483
    },
    "colab_type": "code",
    "id": "65PMge6mz8nJ",
    "outputId": "fdcd6527-9799-43c4-9cb1-9d9780377137"
   },
   "outputs": [
    {
     "data": {
      "text/html": [
       "<pre style=\"white-space:pre;overflow-x:auto;line-height:normal;font-family:Menlo,'DejaVu Sans Mono',consolas,'Courier New',monospace\"><span style=\"font-weight: bold\">&lt;</span><span style=\"color: #ff00ff; text-decoration-color: #ff00ff; font-weight: bold\">Figure</span><span style=\"color: #000000; text-decoration-color: #000000\"> size 1152x576 with </span><span style=\"color: #008080; text-decoration-color: #008080; font-weight: bold\">6</span><span style=\"color: #000000; text-decoration-color: #000000\"> Axes</span><span style=\"font-weight: bold\">&gt;</span>\n",
       "</pre>\n"
      ],
      "text/plain": [
       "\u001b[1m<\u001b[0m\u001b[1;95mFigure\u001b[0m\u001b[39m size 1152x576 with \u001b[0m\u001b[1;36m6\u001b[0m\u001b[39m Axes\u001b[0m\u001b[1m>\u001b[0m\n"
      ]
     },
     "metadata": {},
     "output_type": "display_data"
    },
    {
     "data": {
      "image/png": "[encoded data removed]"
     },
     "metadata": {
      "needs_background": "light"
     },
     "output_type": "display_data"
    }
   ],
   "source": [
    "# plot several outputs from the trained generator\n",
    "\n",
    "G.plot_images(3)"
   ]
  },
  {
   "cell_type": "code",
   "execution_count": 19,
   "metadata": {
    "colab": {
     "base_uri": "https://localhost:8080/",
     "height": 483
    },
    "colab_type": "code",
    "id": "FYffhvL-3Uqr",
    "outputId": "6301bd62-04cd-400c-809e-a8bf59374a12"
   },
   "outputs": [
    {
     "data": {
      "text/html": [
       "<pre style=\"white-space:pre;overflow-x:auto;line-height:normal;font-family:Menlo,'DejaVu Sans Mono',consolas,'Courier New',monospace\"><span style=\"font-weight: bold\">&lt;</span><span style=\"color: #ff00ff; text-decoration-color: #ff00ff; font-weight: bold\">Figure</span><span style=\"color: #000000; text-decoration-color: #000000\"> size 1152x576 with </span><span style=\"color: #008080; text-decoration-color: #008080; font-weight: bold\">6</span><span style=\"color: #000000; text-decoration-color: #000000\"> Axes</span><span style=\"font-weight: bold\">&gt;</span>\n",
       "</pre>\n"
      ],
      "text/plain": [
       "\u001b[1m<\u001b[0m\u001b[1;95mFigure\u001b[0m\u001b[39m size 1152x576 with \u001b[0m\u001b[1;36m6\u001b[0m\u001b[39m Axes\u001b[0m\u001b[1m>\u001b[0m\n"
      ]
     },
     "metadata": {},
     "output_type": "display_data"
    },
    {
     "data": {
      "image/png": "[encoded data removed]"
     },
     "metadata": {
      "needs_background": "light"
     },
     "output_type": "display_data"
    }
   ],
   "source": [
    "# plot several outputs from the trained generator\n",
    "\n",
    "G.plot_images(1)"
   ]
  },
  {
   "cell_type": "code",
   "execution_count": 20,
   "metadata": {
    "colab": {
     "base_uri": "https://localhost:8080/",
     "height": 483
    },
    "colab_type": "code",
    "id": "Jk-JGUZAWaGj",
    "outputId": "20fb9e3a-1847-4309-c0b7-b67dec4fae93"
   },
   "outputs": [
    {
     "data": {
      "text/html": [
       "<pre style=\"white-space:pre;overflow-x:auto;line-height:normal;font-family:Menlo,'DejaVu Sans Mono',consolas,'Courier New',monospace\"><span style=\"font-weight: bold\">&lt;</span><span style=\"color: #ff00ff; text-decoration-color: #ff00ff; font-weight: bold\">Figure</span><span style=\"color: #000000; text-decoration-color: #000000\"> size 1152x576 with </span><span style=\"color: #008080; text-decoration-color: #008080; font-weight: bold\">6</span><span style=\"color: #000000; text-decoration-color: #000000\"> Axes</span><span style=\"font-weight: bold\">&gt;</span>\n",
       "</pre>\n"
      ],
      "text/plain": [
       "\u001b[1m<\u001b[0m\u001b[1;95mFigure\u001b[0m\u001b[39m size 1152x576 with \u001b[0m\u001b[1;36m6\u001b[0m\u001b[39m Axes\u001b[0m\u001b[1m>\u001b[0m\n"
      ]
     },
     "metadata": {},
     "output_type": "display_data"
    },
    {
     "data": {
      "image/png": "[encoded data removed]"
     },
     "metadata": {
      "needs_background": "light"
     },
     "output_type": "display_data"
    }
   ],
   "source": [
    "# plot several outputs from the trained generator\n",
    "\n",
    "G.plot_images(5)"
   ]
  },
  {
   "cell_type": "markdown",
   "metadata": {},
   "source": [
    "## load from pickled GAN"
   ]
  },
  {
   "cell_type": "code",
   "execution_count": 22,
   "metadata": {},
   "outputs": [],
   "source": [
    "import dill as pickle"
   ]
  },
  {
   "cell_type": "code",
   "execution_count": 23,
   "metadata": {},
   "outputs": [],
   "source": [
    "cgan = dict(discriminator=D, generator=G)\n",
    "\n",
    "with open('cgan_mnist.pkl', 'wb') as f:\n",
    "    pickle.dump(cgan, f)"
   ]
  },
  {
   "cell_type": "code",
   "execution_count": 24,
   "metadata": {},
   "outputs": [],
   "source": [
    "with open('cgan_mnist.pkl', 'rb') as f:\n",
    "    new_cgan = pickle.load(f)"
   ]
  },
  {
   "cell_type": "code",
   "execution_count": 37,
   "metadata": {},
   "outputs": [
    {
     "data": {
      "text/html": [
       "<pre style=\"white-space:pre;overflow-x:auto;line-height:normal;font-family:Menlo,'DejaVu Sans Mono',consolas,'Courier New',monospace\"><span style=\"font-weight: bold\">&lt;</span><span style=\"color: #ff00ff; text-decoration-color: #ff00ff; font-weight: bold\">Figure</span><span style=\"color: #000000; text-decoration-color: #000000\"> size 1152x576 with </span><span style=\"color: #008080; text-decoration-color: #008080; font-weight: bold\">6</span><span style=\"color: #000000; text-decoration-color: #000000\"> Axes</span><span style=\"font-weight: bold\">&gt;</span>\n",
       "</pre>\n"
      ],
      "text/plain": [
       "\u001b[1m<\u001b[0m\u001b[1;95mFigure\u001b[0m\u001b[39m size 1152x576 with \u001b[0m\u001b[1;36m6\u001b[0m\u001b[39m Axes\u001b[0m\u001b[1m>\u001b[0m\n"
      ]
     },
     "metadata": {},
     "output_type": "display_data"
    },
    {
     "data": {
      "image/png": "[encoded data removed]"
     },
     "metadata": {
      "needs_background": "light"
     },
     "output_type": "display_data"
    }
   ],
   "source": [
    "new_cgan['generator'].plot_images(7)"
   ]
  },
  {
   "cell_type": "code",
   "execution_count": null,
   "metadata": {},
   "outputs": [],
   "source": []
  }
 ],
 "metadata": {
  "colab": {
   "collapsed_sections": [],
   "name": "16_cgan_mnist.ipynb",
   "provenance": []
  },
  "kernelspec": {
   "display_name": "Python 3 (ipykernel)",
   "language": "python",
   "name": "python3"
  },
  "language_info": {
   "codemirror_mode": {
    "name": "ipython",
    "version": 3
   },
   "file_extension": ".py",
   "mimetype": "text/x-python",
   "name": "python",
   "nbconvert_exporter": "python",
   "pygments_lexer": "ipython3",
   "version": "3.8.3"
  }
 },
 "nbformat": 4,
 "nbformat_minor": 4
}
