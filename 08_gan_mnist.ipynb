{
 "cells": [
  {
   "cell_type": "markdown",
   "metadata": {
    "colab_type": "text",
    "id": "DpII-qgno6EX"
   },
   "source": [
    "# Handwritten Digits - MNIST GAN With Improved Training\n",
    "\n",
    "Make Your First GAN With PyTorch, 2020"
   ]
  },
  {
   "cell_type": "code",
   "execution_count": 32,
   "metadata": {
    "colab": {
     "base_uri": "https://localhost:8080/",
     "height": 34
    },
    "colab_type": "code",
    "id": "R4cVBs2wlDiv",
    "outputId": "fcaa3f3e-4bd5-4747-f1d0-36d2c04f0580"
   },
   "outputs": [],
   "source": [
    "from rich import print"
   ]
  },
  {
   "cell_type": "markdown",
   "metadata": {
    "colab": {},
    "colab_type": "code",
    "id": "7bkrfSHHAPUB"
   },
   "source": [
    "## import libraries"
   ]
  },
  {
   "cell_type": "code",
   "execution_count": 33,
   "metadata": {
    "colab": {},
    "colab_type": "code",
    "id": "7bkrfSHHAPUB"
   },
   "outputs": [],
   "source": [
    "import random\n",
    "import torch\n",
    "import torch.nn as nn\n",
    "\n",
    "import pandas as pd \n",
    "import numpy\n",
    "import matplotlib.pyplot as plt\n",
    "\n",
    "import dill as pickle"
   ]
  },
  {
   "cell_type": "markdown",
   "metadata": {
    "colab_type": "text",
    "id": "o91c-ALVmw0n"
   },
   "source": [
    "## Dataset Class"
   ]
  },
  {
   "cell_type": "code",
   "execution_count": 34,
   "metadata": {
    "colab": {},
    "colab_type": "code",
    "id": "hS9SJ5JI5rIW"
   },
   "outputs": [],
   "source": [
    "import mnist_data"
   ]
  },
  {
   "cell_type": "code",
   "execution_count": 35,
   "metadata": {
    "colab": {},
    "colab_type": "code",
    "id": "4xznLd7Cke2r"
   },
   "outputs": [],
   "source": [
    "# load training data\n",
    "\n",
    "train_csv = mnist_data.datadir.joinpath('mnist_train.csv')\n",
    "mnist_dataset = mnist_data.MnistDataset(train_csv)"
   ]
  },
  {
   "cell_type": "markdown",
   "metadata": {
    "colab_type": "text",
    "id": "tmHENpBuZzvh"
   },
   "source": [
    "## Data Functions"
   ]
  },
  {
   "cell_type": "code",
   "execution_count": 36,
   "metadata": {
    "colab": {},
    "colab_type": "code",
    "id": "px_g8nYPBD3A"
   },
   "outputs": [],
   "source": [
    "# functions to generate random data\n",
    "\n",
    "def generate_random_image(size):\n",
    "    random_data = torch.rand(size)\n",
    "    return random_data\n",
    "\n",
    "\n",
    "def generate_random_seed(size):\n",
    "    random_data = torch.randn(size)\n",
    "    return random_data"
   ]
  },
  {
   "cell_type": "markdown",
   "metadata": {
    "colab_type": "text",
    "id": "AJ_E9wgYQybx"
   },
   "source": [
    "## Discriminator Network"
   ]
  },
  {
   "cell_type": "code",
   "execution_count": 37,
   "metadata": {
    "colab": {},
    "colab_type": "code",
    "id": "MrgKlTsRAfSk"
   },
   "outputs": [],
   "source": [
    "from mnist_classifier import Classifier as Discriminator\n",
    "\n",
    "model = nn.Sequential(\n",
    "    nn.Linear(784, 200),\n",
    "    nn.LeakyReLU(0.02),\n",
    "\n",
    "    nn.LayerNorm(200),\n",
    "\n",
    "    nn.Linear(200, 1),\n",
    "    nn.Sigmoid()\n",
    ")\n",
    "\n",
    "D = Discriminator(model)\n",
    "D.loss_function = nn.BCELoss()\n",
    "D.optimiser = torch.optim.Adam(D.parameters(), lr=0.0001)"
   ]
  },
  {
   "cell_type": "code",
   "execution_count": 38,
   "metadata": {},
   "outputs": [
    {
     "data": {
      "text/html": [
       "<pre style=\"white-space:pre;overflow-x:auto;line-height:normal;font-family:Menlo,'DejaVu Sans Mono',consolas,'Courier New',monospace\">D.model = <span style=\"color: #800080; text-decoration-color: #800080; font-weight: bold\">Sequential</span><span style=\"font-weight: bold\">(</span>\n",
       "  <span style=\"font-weight: bold\">(</span><span style=\"color: #008080; text-decoration-color: #008080; font-weight: bold\">0</span><span style=\"font-weight: bold\">)</span>: <span style=\"color: #800080; text-decoration-color: #800080; font-weight: bold\">Linear</span><span style=\"font-weight: bold\">(</span><span style=\"color: #808000; text-decoration-color: #808000\">in_features</span>=<span style=\"color: #008080; text-decoration-color: #008080; font-weight: bold\">784</span>, <span style=\"color: #808000; text-decoration-color: #808000\">out_features</span>=<span style=\"color: #008080; text-decoration-color: #008080; font-weight: bold\">200</span>, <span style=\"color: #808000; text-decoration-color: #808000\">bias</span>=<span style=\"color: #00ff00; text-decoration-color: #00ff00; font-style: italic\">True</span><span style=\"font-weight: bold\">)</span>\n",
       "  <span style=\"font-weight: bold\">(</span><span style=\"color: #008080; text-decoration-color: #008080; font-weight: bold\">1</span><span style=\"font-weight: bold\">)</span>: <span style=\"color: #800080; text-decoration-color: #800080; font-weight: bold\">LeakyReLU</span><span style=\"font-weight: bold\">(</span><span style=\"color: #808000; text-decoration-color: #808000\">negative_slope</span>=<span style=\"color: #008080; text-decoration-color: #008080; font-weight: bold\">0.02</span><span style=\"font-weight: bold\">)</span>\n",
       "  <span style=\"font-weight: bold\">(</span><span style=\"color: #008080; text-decoration-color: #008080; font-weight: bold\">2</span><span style=\"font-weight: bold\">)</span>: <span style=\"color: #800080; text-decoration-color: #800080; font-weight: bold\">LayerNorm</span><span style=\"font-weight: bold\">((</span><span style=\"color: #008080; text-decoration-color: #008080; font-weight: bold\">200</span>,<span style=\"font-weight: bold\">)</span>, <span style=\"color: #808000; text-decoration-color: #808000\">eps</span>=<span style=\"color: #008080; text-decoration-color: #008080; font-weight: bold\">1e-05</span>, <span style=\"color: #808000; text-decoration-color: #808000\">elementwise_affine</span>=<span style=\"color: #00ff00; text-decoration-color: #00ff00; font-style: italic\">True</span><span style=\"font-weight: bold\">)</span>\n",
       "  <span style=\"font-weight: bold\">(</span><span style=\"color: #008080; text-decoration-color: #008080; font-weight: bold\">3</span><span style=\"font-weight: bold\">)</span>: <span style=\"color: #800080; text-decoration-color: #800080; font-weight: bold\">Linear</span><span style=\"font-weight: bold\">(</span><span style=\"color: #808000; text-decoration-color: #808000\">in_features</span>=<span style=\"color: #008080; text-decoration-color: #008080; font-weight: bold\">200</span>, <span style=\"color: #808000; text-decoration-color: #808000\">out_features</span>=<span style=\"color: #008080; text-decoration-color: #008080; font-weight: bold\">1</span>, <span style=\"color: #808000; text-decoration-color: #808000\">bias</span>=<span style=\"color: #00ff00; text-decoration-color: #00ff00; font-style: italic\">True</span><span style=\"font-weight: bold\">)</span>\n",
       "  <span style=\"font-weight: bold\">(</span><span style=\"color: #008080; text-decoration-color: #008080; font-weight: bold\">4</span><span style=\"font-weight: bold\">)</span>: <span style=\"color: #800080; text-decoration-color: #800080; font-weight: bold\">Sigmoid</span><span style=\"font-weight: bold\">()</span>\n",
       "<span style=\"font-weight: bold\">)</span>\n",
       "</pre>\n"
      ],
      "text/plain": [
       "D.model = \u001b[1;35mSequential\u001b[0m\u001b[1m(\u001b[0m\n",
       "  \u001b[1m(\u001b[0m\u001b[1;36m0\u001b[0m\u001b[1m)\u001b[0m: \u001b[1;35mLinear\u001b[0m\u001b[1m(\u001b[0m\u001b[33min_features\u001b[0m=\u001b[1;36m784\u001b[0m, \u001b[33mout_features\u001b[0m=\u001b[1;36m200\u001b[0m, \u001b[33mbias\u001b[0m=\u001b[3;92mTrue\u001b[0m\u001b[1m)\u001b[0m\n",
       "  \u001b[1m(\u001b[0m\u001b[1;36m1\u001b[0m\u001b[1m)\u001b[0m: \u001b[1;35mLeakyReLU\u001b[0m\u001b[1m(\u001b[0m\u001b[33mnegative_slope\u001b[0m=\u001b[1;36m0\u001b[0m\u001b[1;36m.02\u001b[0m\u001b[1m)\u001b[0m\n",
       "  \u001b[1m(\u001b[0m\u001b[1;36m2\u001b[0m\u001b[1m)\u001b[0m: \u001b[1;35mLayerNorm\u001b[0m\u001b[1m(\u001b[0m\u001b[1m(\u001b[0m\u001b[1;36m200\u001b[0m,\u001b[1m)\u001b[0m, \u001b[33meps\u001b[0m=\u001b[1;36m1e\u001b[0m\u001b[1;36m-05\u001b[0m, \u001b[33melementwise_affine\u001b[0m=\u001b[3;92mTrue\u001b[0m\u001b[1m)\u001b[0m\n",
       "  \u001b[1m(\u001b[0m\u001b[1;36m3\u001b[0m\u001b[1m)\u001b[0m: \u001b[1;35mLinear\u001b[0m\u001b[1m(\u001b[0m\u001b[33min_features\u001b[0m=\u001b[1;36m200\u001b[0m, \u001b[33mout_features\u001b[0m=\u001b[1;36m1\u001b[0m, \u001b[33mbias\u001b[0m=\u001b[3;92mTrue\u001b[0m\u001b[1m)\u001b[0m\n",
       "  \u001b[1m(\u001b[0m\u001b[1;36m4\u001b[0m\u001b[1m)\u001b[0m: \u001b[1;35mSigmoid\u001b[0m\u001b[1m(\u001b[0m\u001b[1m)\u001b[0m\n",
       "\u001b[1m)\u001b[0m\n"
      ]
     },
     "metadata": {},
     "output_type": "display_data"
    },
    {
     "data": {
      "text/html": [
       "<pre style=\"white-space:pre;overflow-x:auto;line-height:normal;font-family:Menlo,'DejaVu Sans Mono',consolas,'Courier New',monospace\">D.loss_function = <span style=\"color: #800080; text-decoration-color: #800080; font-weight: bold\">BCELoss</span><span style=\"font-weight: bold\">()</span>\n",
       "</pre>\n"
      ],
      "text/plain": [
       "D.loss_function = \u001b[1;35mBCELoss\u001b[0m\u001b[1m(\u001b[0m\u001b[1m)\u001b[0m\n"
      ]
     },
     "metadata": {},
     "output_type": "display_data"
    },
    {
     "data": {
      "text/html": [
       "<pre style=\"white-space:pre;overflow-x:auto;line-height:normal;font-family:Menlo,'DejaVu Sans Mono',consolas,'Courier New',monospace\">D.optimiser = Adam <span style=\"font-weight: bold\">(</span>\n",
       "Parameter Group <span style=\"color: #008080; text-decoration-color: #008080; font-weight: bold\">0</span>\n",
       "    amsgrad: <span style=\"color: #ff0000; text-decoration-color: #ff0000; font-style: italic\">False</span>\n",
       "    betas: <span style=\"font-weight: bold\">(</span><span style=\"color: #008080; text-decoration-color: #008080; font-weight: bold\">0.9</span>, <span style=\"color: #008080; text-decoration-color: #008080; font-weight: bold\">0.999</span><span style=\"font-weight: bold\">)</span>\n",
       "    eps: <span style=\"color: #008080; text-decoration-color: #008080; font-weight: bold\">1e-08</span>\n",
       "    lr: <span style=\"color: #008080; text-decoration-color: #008080; font-weight: bold\">0.0001</span>\n",
       "    weight_decay: <span style=\"color: #008080; text-decoration-color: #008080; font-weight: bold\">0</span>\n",
       "<span style=\"font-weight: bold\">)</span>\n",
       "</pre>\n"
      ],
      "text/plain": [
       "D.optimiser = Adam \u001b[1m(\u001b[0m\n",
       "Parameter Group \u001b[1;36m0\u001b[0m\n",
       "    amsgrad: \u001b[3;91mFalse\u001b[0m\n",
       "    betas: \u001b[1m(\u001b[0m\u001b[1;36m0.9\u001b[0m, \u001b[1;36m0.999\u001b[0m\u001b[1m)\u001b[0m\n",
       "    eps: \u001b[1;36m1e-08\u001b[0m\n",
       "    lr: \u001b[1;36m0.0001\u001b[0m\n",
       "    weight_decay: \u001b[1;36m0\u001b[0m\n",
       "\u001b[1m)\u001b[0m\n"
      ]
     },
     "metadata": {},
     "output_type": "display_data"
    }
   ],
   "source": [
    "print(f\"{D.model = }\")\n",
    "print(f'{D.loss_function = }')\n",
    "print(f'{D.optimiser = }')"
   ]
  },
  {
   "cell_type": "markdown",
   "metadata": {
    "colab_type": "text",
    "id": "IFajrD3xCgsb"
   },
   "source": [
    "## Test Discriminator"
   ]
  },
  {
   "cell_type": "code",
   "execution_count": null,
   "metadata": {
    "colab": {
     "base_uri": "https://localhost:8080/",
     "height": 255
    },
    "colab_type": "code",
    "id": "AXgCZ9DiCl3A",
    "outputId": "b24e8c16-4b93-4eee-9162-06abc6404344"
   },
   "outputs": [
    {
     "data": {
      "text/html": [
       "<pre style=\"white-space:pre;overflow-x:auto;line-height:normal;font-family:Menlo,'DejaVu Sans Mono',consolas,'Courier New',monospace\">counter =  <span style=\"color: #008080; text-decoration-color: #008080; font-weight: bold\">10000</span>\n",
       "</pre>\n"
      ],
      "text/plain": [
       "counter =  \u001b[1;36m10000\u001b[0m\n"
      ]
     },
     "metadata": {},
     "output_type": "display_data"
    },
    {
     "data": {
      "text/html": [
       "<pre style=\"white-space:pre;overflow-x:auto;line-height:normal;font-family:Menlo,'DejaVu Sans Mono',consolas,'Courier New',monospace\">counter =  <span style=\"color: #008080; text-decoration-color: #008080; font-weight: bold\">20000</span>\n",
       "</pre>\n"
      ],
      "text/plain": [
       "counter =  \u001b[1;36m20000\u001b[0m\n"
      ]
     },
     "metadata": {},
     "output_type": "display_data"
    },
    {
     "data": {
      "text/html": [
       "<pre style=\"white-space:pre;overflow-x:auto;line-height:normal;font-family:Menlo,'DejaVu Sans Mono',consolas,'Courier New',monospace\">counter =  <span style=\"color: #008080; text-decoration-color: #008080; font-weight: bold\">30000</span>\n",
       "</pre>\n"
      ],
      "text/plain": [
       "counter =  \u001b[1;36m30000\u001b[0m\n"
      ]
     },
     "metadata": {},
     "output_type": "display_data"
    },
    {
     "data": {
      "text/html": [
       "<pre style=\"white-space:pre;overflow-x:auto;line-height:normal;font-family:Menlo,'DejaVu Sans Mono',consolas,'Courier New',monospace\">counter =  <span style=\"color: #008080; text-decoration-color: #008080; font-weight: bold\">40000</span>\n",
       "</pre>\n"
      ],
      "text/plain": [
       "counter =  \u001b[1;36m40000\u001b[0m\n"
      ]
     },
     "metadata": {},
     "output_type": "display_data"
    },
    {
     "data": {
      "text/html": [
       "<pre style=\"white-space:pre;overflow-x:auto;line-height:normal;font-family:Menlo,'DejaVu Sans Mono',consolas,'Courier New',monospace\">counter =  <span style=\"color: #008080; text-decoration-color: #008080; font-weight: bold\">50000</span>\n",
       "</pre>\n"
      ],
      "text/plain": [
       "counter =  \u001b[1;36m50000\u001b[0m\n"
      ]
     },
     "metadata": {},
     "output_type": "display_data"
    },
    {
     "data": {
      "text/html": [
       "<pre style=\"white-space:pre;overflow-x:auto;line-height:normal;font-family:Menlo,'DejaVu Sans Mono',consolas,'Courier New',monospace\">counter =  <span style=\"color: #008080; text-decoration-color: #008080; font-weight: bold\">60000</span>\n",
       "</pre>\n"
      ],
      "text/plain": [
       "counter =  \u001b[1;36m60000\u001b[0m\n"
      ]
     },
     "metadata": {},
     "output_type": "display_data"
    },
    {
     "data": {
      "text/html": [
       "<pre style=\"white-space:pre;overflow-x:auto;line-height:normal;font-family:Menlo,'DejaVu Sans Mono',consolas,'Courier New',monospace\">counter =  <span style=\"color: #008080; text-decoration-color: #008080; font-weight: bold\">70000</span>\n",
       "</pre>\n"
      ],
      "text/plain": [
       "counter =  \u001b[1;36m70000\u001b[0m\n"
      ]
     },
     "metadata": {},
     "output_type": "display_data"
    }
   ],
   "source": [
    "%%time\n",
    "# test discriminator can separate real data from random noise\n",
    "\n",
    "for label, image_data_tensor, target_tensor in mnist_dataset:\n",
    "    # real data\n",
    "    D.train(image_data_tensor, torch.FloatTensor([1.0]), print_counter=True)\n",
    "    # fake data\n",
    "    D.train(generate_random_image(784), torch.FloatTensor([0.0]), print_counter=True)"
   ]
  },
  {
   "cell_type": "code",
   "execution_count": null,
   "metadata": {
    "colab": {
     "base_uri": "https://localhost:8080/",
     "height": 487
    },
    "colab_type": "code",
    "id": "aBh8AGJFDhcU",
    "outputId": "be081092-6c2f-4cb4-e591-965e62c1c253"
   },
   "outputs": [],
   "source": [
    "# plot discriminator loss\n",
    "\n",
    "# D.plot_progress()\n",
    "D.plot_progress(ylim=(0, 0.005))"
   ]
  },
  {
   "cell_type": "code",
   "execution_count": null,
   "metadata": {
    "colab": {
     "base_uri": "https://localhost:8080/",
     "height": 153
    },
    "colab_type": "code",
    "id": "MUMJn6efDkH5",
    "outputId": "deae9a2c-4111-4428-862d-7950b769c65e"
   },
   "outputs": [],
   "source": [
    "# manually run discriminator to check it can tell real data from fake\n",
    "\n",
    "for i in range(4):\n",
    "    image_data_tensor = mnist_dataset[random.randint(0, 60000)][1]\n",
    "    print(f\"{D.forward(image_data_tensor).item():.3f}\")\n",
    "\n",
    "for i in range(4):\n",
    "    print(f\"{D.forward(generate_random_image(784)).item():.2e}\")"
   ]
  },
  {
   "cell_type": "markdown",
   "metadata": {
    "colab_type": "text",
    "id": "SsE9-KrguowG"
   },
   "source": [
    "## Generator Network"
   ]
  },
  {
   "cell_type": "code",
   "execution_count": null,
   "metadata": {
    "colab": {},
    "colab_type": "code",
    "id": "j-JwJlKDh_Ej"
   },
   "outputs": [],
   "source": [
    "from mnist_generator import Generator\n",
    "\n",
    "gmodel = nn.Sequential(\n",
    "    nn.Linear(100, 200),\n",
    "    nn.LeakyReLU(0.02),\n",
    "\n",
    "    nn.LayerNorm(200),\n",
    "\n",
    "    nn.Linear(200, 784),\n",
    "    nn.Sigmoid()\n",
    ")\n",
    "\n",
    "G = Generator(gmodel)\n",
    "G.optimiser = torch.optim.Adam(G.parameters(), lr=0.0001)"
   ]
  },
  {
   "cell_type": "code",
   "execution_count": null,
   "metadata": {},
   "outputs": [],
   "source": [
    "print(f\"{G.model = }\")\n",
    "print(f'{G.optimiser = }')"
   ]
  },
  {
   "cell_type": "markdown",
   "metadata": {
    "colab_type": "text",
    "id": "SwjycPNXxF7G"
   },
   "source": [
    "## Test Generator Output"
   ]
  },
  {
   "cell_type": "code",
   "execution_count": null,
   "metadata": {
    "colab": {
     "base_uri": "https://localhost:8080/",
     "height": 282
    },
    "colab_type": "code",
    "id": "84vbfjGRwodN",
    "outputId": "55bf0c85-b51e-4753-d9d8-48a0cb7fc677"
   },
   "outputs": [],
   "source": [
    "# check the generator output is of the right type and shape\n",
    "\n",
    "output = G.forward(generate_random_seed(100))\n",
    "\n",
    "img = output.detach().numpy().reshape(28,28)\n",
    "\n",
    "plt.imshow(img, interpolation='none', cmap='Blues')"
   ]
  },
  {
   "cell_type": "markdown",
   "metadata": {
    "colab_type": "text",
    "id": "5k9SRwIkxTLi"
   },
   "source": [
    "## Train GAN"
   ]
  },
  {
   "cell_type": "code",
   "execution_count": null,
   "metadata": {
    "colab": {
     "base_uri": "https://localhost:8080/",
     "height": 935
    },
    "colab_type": "code",
    "id": "radA76P9xWr1",
    "outputId": "61ba8730-a8a9-4731-e83f-5917e999a248"
   },
   "outputs": [],
   "source": [
    "%%time \n",
    "\n",
    "# create Discriminator and Generator\n",
    "\n",
    "D = Discriminator(model)\n",
    "D.loss_function = nn.BCELoss()\n",
    "D.optimiser = torch.optim.Adam(D.parameters(), lr=0.0001)\n",
    "\n",
    "G = Generator(gmodel)\n",
    "G.optimiser = torch.optim.Adam(G.parameters(), lr=0.0001)\n",
    "\n",
    "# train Discriminator and Generator\n",
    "\n",
    "epochs = 4\n",
    "# epochs = 8\n",
    "\n",
    "for epoch in range(epochs):\n",
    "    print(f'Starting epoch {epoch} of {epochs}')\n",
    "    for label, image_data_tensor, target_tensor in mnist_dataset:\n",
    "\n",
    "        # train discriminator on true\n",
    "        D.train(image_data_tensor, torch.FloatTensor([1.0]), print_counter=True)\n",
    "\n",
    "        # train discriminator on false\n",
    "        # use detach() so gradients in G are not calculated\n",
    "        D.train(G.forward(generate_random_seed(100)).detach(), torch.FloatTensor([0.0]), print_counter=True)\n",
    "#         D.train(G.forward(generate_random_image(100)).detach(), torch.FloatTensor([0.0]), print_counter=True)\n",
    "\n",
    "        # train generator\n",
    "        G.train(D, generate_random_seed(100), torch.FloatTensor([1.0]))"
   ]
  },
  {
   "cell_type": "code",
   "execution_count": null,
   "metadata": {
    "colab": {
     "base_uri": "https://localhost:8080/",
     "height": 483
    },
    "colab_type": "code",
    "id": "WfGwR21QxYtV",
    "outputId": "8b980dc5-b9e0-4511-a693-8d45dba25e50"
   },
   "outputs": [],
   "source": [
    "# plot discriminator error\n",
    "\n",
    "# D.plot_progress(yticks=(0, 0.25, 0.5, 5))\n",
    "D.plot_progress()"
   ]
  },
  {
   "cell_type": "code",
   "execution_count": null,
   "metadata": {
    "colab": {
     "base_uri": "https://localhost:8080/",
     "height": 483
    },
    "colab_type": "code",
    "id": "SIx0tJBixbGM",
    "outputId": "45095f1e-8478-4ad1-b483-88a37de13184"
   },
   "outputs": [],
   "source": [
    "# plot generator error\n",
    "\n",
    "# G.plot_progress(yticks=(0, 0.25, 0.5, 5))\n",
    "G.plot_progress(xlim=(0, 5000))"
   ]
  },
  {
   "cell_type": "markdown",
   "metadata": {
    "colab_type": "text",
    "id": "vddYtD84xkmI"
   },
   "source": [
    "## Run Generator"
   ]
  },
  {
   "cell_type": "code",
   "execution_count": null,
   "metadata": {
    "colab": {
     "base_uri": "https://localhost:8080/",
     "height": 483
    },
    "colab_type": "code",
    "id": "mePLPy3Yxj9A",
    "outputId": "13f862bb-47ec-4e3a-b91f-eaa123ba3eeb"
   },
   "outputs": [],
   "source": [
    "# plot several outputs from the trained generator\n",
    "\n",
    "# plot a 3 column, 2 row array of generated images\n",
    "f, axarr = plt.subplots(2,3, figsize=(16,8))\n",
    "for i in range(2):\n",
    "    for j in range(3):\n",
    "        output = G.forward(generate_random_seed(100))\n",
    "        img = output.detach().numpy().reshape(28, 28)\n",
    "        axarr[i,j].imshow(img, interpolation='none', cmap='Blues')"
   ]
  },
  {
   "cell_type": "markdown",
   "metadata": {},
   "source": [
    "## Seed Experiments"
   ]
  },
  {
   "cell_type": "code",
   "execution_count": null,
   "metadata": {
    "colab": {
     "base_uri": "https://localhost:8080/",
     "height": 282
    },
    "colab_type": "code",
    "id": "yjgU3hDrnLiF",
    "outputId": "f27a9768-5614-47af-8cea-ef577d7bd9ff"
   },
   "outputs": [],
   "source": [
    "seed1 = generate_random_seed(100)\n",
    "out1 = G.forward(seed1)\n",
    "img1 = out1.detach().numpy().reshape(28,28)\n",
    "plt.imshow(img1, interpolation='none', cmap='Blues')"
   ]
  },
  {
   "cell_type": "code",
   "execution_count": null,
   "metadata": {
    "colab": {
     "base_uri": "https://localhost:8080/",
     "height": 282
    },
    "colab_type": "code",
    "id": "qcdm9NbZnh7I",
    "outputId": "185bfa90-432d-4f2e-82de-cfeda8ffbccc"
   },
   "outputs": [],
   "source": [
    "seed2 = generate_random_seed(100)\n",
    "out2 = G.forward(seed2)\n",
    "img2 = out2.detach().numpy().reshape(28,28)\n",
    "plt.imshow(img2, interpolation='none', cmap='Blues')"
   ]
  },
  {
   "cell_type": "code",
   "execution_count": null,
   "metadata": {
    "colab": {
     "base_uri": "https://localhost:8080/",
     "height": 484
    },
    "colab_type": "code",
    "id": "BZ93ONjOXzF3",
    "outputId": "507b6f05-501a-4510-df54-476284b43644"
   },
   "outputs": [],
   "source": [
    "# plot several outputs from the trained generator\n",
    "\n",
    "count = 0\n",
    "\n",
    "# plot a 3 column, 2 row array of generated images\n",
    "f, axarr = plt.subplots(3,4, figsize=(16,8))\n",
    "for i in range(3):\n",
    "    for j in range(4):\n",
    "        seed = seed1 + (seed2 - seed1)/11 * count\n",
    "        output = G.forward(seed)\n",
    "        img = output.detach().numpy().reshape(28,28)\n",
    "        axarr[i,j].imshow(img, interpolation='none', cmap='Blues')\n",
    "        count = count + 1"
   ]
  },
  {
   "cell_type": "code",
   "execution_count": null,
   "metadata": {
    "colab": {
     "base_uri": "https://localhost:8080/",
     "height": 282
    },
    "colab_type": "code",
    "id": "yovk2S4gkX-6",
    "outputId": "13f0c05f-eca7-423f-9d3c-f202a7577719"
   },
   "outputs": [],
   "source": [
    "# sum of seeds\n",
    "\n",
    "seed3 = seed1 + seed2\n",
    "out3 = G.forward(seed3)\n",
    "img3 = out3.detach().numpy().reshape(28,28)\n",
    "plt.imshow(img3, interpolation='none', cmap='Blues')"
   ]
  },
  {
   "cell_type": "code",
   "execution_count": null,
   "metadata": {
    "colab": {
     "base_uri": "https://localhost:8080/",
     "height": 282
    },
    "colab_type": "code",
    "id": "ck1Feaxiwm_X",
    "outputId": "7a605f89-0957-41e1-ef2f-e3a86a64f92a"
   },
   "outputs": [],
   "source": [
    "# difference of seeds\n",
    "\n",
    "seed4 = seed1 - seed2\n",
    "out4 = G.forward(seed4)\n",
    "img4 = out4.detach().numpy().reshape(28,28)\n",
    "plt.imshow(img4, interpolation='none', cmap='Blues')"
   ]
  },
  {
   "cell_type": "code",
   "execution_count": null,
   "metadata": {
    "colab": {
     "base_uri": "https://localhost:8080/",
     "height": 282
    },
    "colab_type": "code",
    "id": "snSpGdTF35CD",
    "outputId": "6911b87a-c3ca-45e3-bd44-b315240d59b0"
   },
   "outputs": [],
   "source": [
    "# difference of seeds\n",
    "\n",
    "seed4 = seed1 * seed2\n",
    "out4 = G.forward(seed4)\n",
    "img4 = out4.detach().numpy().reshape(28,28)\n",
    "plt.imshow(img4, interpolation='none', cmap='Blues')"
   ]
  },
  {
   "cell_type": "markdown",
   "metadata": {},
   "source": [
    "## pickle and save GAN"
   ]
  },
  {
   "cell_type": "code",
   "execution_count": null,
   "metadata": {},
   "outputs": [],
   "source": [
    "D.pickle('discriminator_mnist.pkl')\n",
    "G.pickle('generator_mnist.pkl')"
   ]
  },
  {
   "cell_type": "code",
   "execution_count": null,
   "metadata": {},
   "outputs": [],
   "source": [
    "gan = dict(discriminator=D, generator=G)\n",
    "\n",
    "with open('gan_mnist.pkl', 'wb') as f:\n",
    "    pickle.dump(gan, f)"
   ]
  },
  {
   "cell_type": "markdown",
   "metadata": {},
   "source": [
    "## load from pickled GAN"
   ]
  },
  {
   "cell_type": "code",
   "execution_count": null,
   "metadata": {},
   "outputs": [],
   "source": [
    "with open('discriminator_mnist.pkl', 'rb') as f:\n",
    "    Dn = pickle.load(f)\n",
    "    \n",
    "with open('generator_mnist.pkl', 'rb') as f:\n",
    "    Gn = pickle.load(f)"
   ]
  },
  {
   "cell_type": "code",
   "execution_count": null,
   "metadata": {},
   "outputs": [],
   "source": [
    "f, axarr = plt.subplots(2,3, figsize=(16,8))\n",
    "for i in range(2):\n",
    "    for j in range(3):\n",
    "        output = Gn.forward(generate_random_seed(100))\n",
    "        img = output.detach().numpy().reshape(28, 28)\n",
    "        axarr[i,j].imshow(img, interpolation='none', cmap='Blues')"
   ]
  },
  {
   "cell_type": "code",
   "execution_count": null,
   "metadata": {},
   "outputs": [],
   "source": [
    "with open('gan_mnist.pkl', 'rb') as f:\n",
    "    new_gan = pickle.load(f)"
   ]
  },
  {
   "cell_type": "code",
   "execution_count": null,
   "metadata": {},
   "outputs": [],
   "source": [
    "output = new_gan['generator'].forward(generate_random_seed(100))\n",
    "img = output.detach().numpy().reshape(28, 28)\n",
    "plt.imshow(img, interpolation='none', cmap='Blues')"
   ]
  },
  {
   "cell_type": "code",
   "execution_count": null,
   "metadata": {},
   "outputs": [],
   "source": []
  }
 ],
 "metadata": {
  "colab": {
   "collapsed_sections": [],
   "name": "08_gan_mnist.ipynb",
   "provenance": []
  },
  "kernelspec": {
   "display_name": "Python 3 (ipykernel)",
   "language": "python",
   "name": "python3"
  },
  "language_info": {
   "codemirror_mode": {
    "name": "ipython",
    "version": 3
   },
   "file_extension": ".py",
   "mimetype": "text/x-python",
   "name": "python",
   "nbconvert_exporter": "python",
   "pygments_lexer": "ipython3",
   "version": "3.8.3"
  }
 },
 "nbformat": 4,
 "nbformat_minor": 4
}
