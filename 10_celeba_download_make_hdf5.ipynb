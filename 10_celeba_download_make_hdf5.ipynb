{
 "cells": [
  {
   "cell_type": "markdown",
   "metadata": {
    "colab_type": "text",
    "id": "DpII-qgno6EX"
   },
   "source": [
    "# Human Faces - Download CelebA Data and Make HDF5\n",
    "\n",
    "Make Your First GAN With PyTorch, 2020"
   ]
  },
  {
   "cell_type": "markdown",
   "metadata": {
    "colab_type": "text",
    "id": "Wi65ho8_tgQG"
   },
   "source": [
    "## Download CelebA Dataset\n",
    "\n",
    "The downloaded data will be deleted after the colab virtual machine is deleted."
   ]
  },
  {
   "cell_type": "code",
   "execution_count": 1,
   "metadata": {
    "colab": {
     "base_uri": "https://localhost:8080/",
     "height": 119
    },
    "colab_type": "code",
    "id": "-MKGmYJW1EPY",
    "outputId": "a7d96fb7-8670-4dd9-f949-e31d424246bf"
   },
   "outputs": [],
   "source": [
    "# download data\n",
    "\n",
    "# import torchvision.datasets\n",
    "# celeba_dataset = torchvision.datasets.CelebA(root='.', download=True)"
   ]
  },
  {
   "cell_type": "markdown",
   "metadata": {
    "colab_type": "text",
    "id": "B9hyVvblv0kF"
   },
   "source": [
    "## Extract Images and Re-Package as HDF5\n",
    "\n",
    "The HDF5 file is located in google Drive and won't be deleted when the colab virtual machine is deleted."
   ]
  },
  {
   "cell_type": "code",
   "execution_count": 1,
   "metadata": {
    "colab": {},
    "colab_type": "code",
    "id": "mgPN34s04_li"
   },
   "outputs": [],
   "source": [
    "import h5py\n",
    "import imageio\n",
    "import os\n",
    "from pathlib import Path"
   ]
  },
  {
   "cell_type": "code",
   "execution_count": 3,
   "metadata": {
    "colab": {
     "base_uri": "https://localhost:8080/",
     "height": 391
    },
    "colab_type": "code",
    "id": "UJXhnB3wv7kl",
    "outputId": "4131f301-1c89-4b21-a9e5-3eb2aff267f3"
   },
   "outputs": [
    {
     "name": "stdout",
     "output_type": "stream",
     "text": [
      "images done ..  0\n",
      "images done ..  1000\n",
      "images done ..  2000\n",
      "images done ..  3000\n",
      "images done ..  4000\n",
      "images done ..  5000\n",
      "images done ..  6000\n",
      "images done ..  7000\n",
      "images done ..  8000\n",
      "images done ..  9000\n",
      "images done ..  10000\n",
      "images done ..  11000\n",
      "images done ..  12000\n",
      "images done ..  13000\n",
      "images done ..  14000\n",
      "images done ..  15000\n",
      "images done ..  16000\n",
      "images done ..  17000\n",
      "images done ..  18000\n",
      "images done ..  19000\n",
      "images done ..  20000\n",
      "CPU times: user 2min 26s, sys: 34.9 s, total: 3min 1s\n",
      "Wall time: 4min 25s\n"
     ]
    }
   ],
   "source": [
    "%%time\n",
    "\n",
    "# HDF5 file to save\n",
    "hdf5_file = 'celeba_aligned_small.hdf5'\n",
    "\n",
    "# image directory\n",
    "fdir = Path('img_align_celeba')\n",
    "\n",
    "# how many of the 202,599 images to extract and package into HDF5\n",
    "total_images = 20000\n",
    "\n",
    "with h5py.File(hdf5_file, 'w') as hf:\n",
    "    for count, fi in enumerate(fdir.glob(\"*.jpg\")):\n",
    "        img = imageio.imread(fi)\n",
    "        # add image data to HDF5 file with new name\n",
    "        hf.create_dataset(f'img_align_celeba/{count}.jpg', data=img, compression=\"gzip\", compression_opts=9)\n",
    "        if (count%1000 == 0):\n",
    "            print(\"images done .. \", count)\n",
    "            \n",
    "        # stop when total_images reached\n",
    "        if (count == total_images):\n",
    "            break"
   ]
  },
  {
   "cell_type": "code",
   "execution_count": 2,
   "metadata": {
    "colab": {
     "base_uri": "https://localhost:8080/",
     "height": 391
    },
    "colab_type": "code",
    "id": "UJXhnB3wv7kl",
    "outputId": "4131f301-1c89-4b21-a9e5-3eb2aff267f3"
   },
   "outputs": [
    {
     "name": "stdout",
     "output_type": "stream",
     "text": [
      "images done ..  0\n",
      "images done ..  10000\n",
      "images done ..  20000\n",
      "images done ..  30000\n",
      "images done ..  40000\n",
      "images done ..  50000\n",
      "images done ..  60000\n",
      "images done ..  70000\n",
      "images done ..  80000\n",
      "images done ..  90000\n",
      "images done ..  100000\n",
      "images done ..  110000\n",
      "images done ..  120000\n",
      "images done ..  130000\n",
      "images done ..  140000\n",
      "images done ..  150000\n",
      "images done ..  160000\n",
      "images done ..  170000\n",
      "images done ..  180000\n",
      "images done ..  190000\n",
      "images done ..  200000\n",
      "CPU times: user 23min 52s, sys: 5min 41s, total: 29min 34s\n",
      "Wall time: 1h 11min 37s\n"
     ]
    }
   ],
   "source": [
    "%%time\n",
    "\n",
    "# HDF5 file to save\n",
    "hdf5_file = 'celeba_aligned.hdf5'\n",
    "\n",
    "# image directory\n",
    "fdir = Path('img_align_celeba')\n",
    "\n",
    "with h5py.File(hdf5_file, 'w') as hf:\n",
    "    for count, fi in enumerate(fdir.glob(\"*.jpg\")):\n",
    "        img = imageio.imread(fi)\n",
    "        # add image data to HDF5 file with new name\n",
    "        hf.create_dataset(f'img_align_celeba/{count}.jpg', data=img, compression=\"gzip\", compression_opts=9)\n",
    "        if (count % 10000 == 0):\n",
    "            print(\"images done .. \", count)"
   ]
  },
  {
   "cell_type": "code",
   "execution_count": null,
   "metadata": {
    "colab": {},
    "colab_type": "code",
    "id": "3O1cSNS2_mdC"
   },
   "outputs": [],
   "source": []
  }
 ],
 "metadata": {
  "colab": {
   "collapsed_sections": [],
   "name": "10_celeba_download_make_hdf5.ipynb",
   "provenance": []
  },
  "kernelspec": {
   "display_name": "Python 3 (ipykernel)",
   "language": "python",
   "name": "python3"
  },
  "language_info": {
   "codemirror_mode": {
    "name": "ipython",
    "version": 3
   },
   "file_extension": ".py",
   "mimetype": "text/x-python",
   "name": "python",
   "nbconvert_exporter": "python",
   "pygments_lexer": "ipython3",
   "version": "3.8.3"
  }
 },
 "nbformat": 4,
 "nbformat_minor": 4
}
